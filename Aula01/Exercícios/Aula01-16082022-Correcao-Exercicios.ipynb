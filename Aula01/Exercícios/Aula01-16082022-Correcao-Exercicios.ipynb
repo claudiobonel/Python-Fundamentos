{
 "cells": [
  {
   "cell_type": "markdown",
   "id": "262d3e16",
   "metadata": {},
   "source": [
    "# Exercício 1"
   ]
  },
  {
   "cell_type": "markdown",
   "id": "4354cbcd",
   "metadata": {},
   "source": [
    "Você foi solicitado a desenvolver um script, onde toda vez que ele for executado, deverá exibir uma mensagem a sua escolha."
   ]
  },
  {
   "cell_type": "code",
   "execution_count": 66,
   "id": "1392fe66",
   "metadata": {},
   "outputs": [
    {
     "name": "stdout",
     "output_type": "stream",
     "text": [
      "Pois a torcida Americana é toda assim! A começar por mim!\n"
     ]
    }
   ],
   "source": [
    "#Correção: Exercício 1\n",
    "\n",
    "print(\"Pois a torcida Americana é toda assim! A começar por mim!\")"
   ]
  },
  {
   "cell_type": "markdown",
   "id": "5f2a813e",
   "metadata": {},
   "source": [
    "# Exercício 2: Integrando variáveis"
   ]
  },
  {
   "cell_type": "markdown",
   "id": "8053c0c0",
   "metadata": {},
   "source": [
    "Você foi solicitado a desenvolver um algoritmo onde seja possível exibir um mensagem na tela, baseado na comparação da cotação do dólar com o limite proposto pela organização que é de R$ 5,04.\n",
    "\n",
    "Verifique a cotação do dia, compare-o com o limite proposto e exiba uma mensagem na tela \"A cotação do dólar é menor que R$ 5,04?\", concatenado com o resultado da comparação de valores. Exiba também, na mesma mensagem, a informação do valor da cotação atual."
   ]
  },
  {
   "cell_type": "code",
   "execution_count": 70,
   "id": "a1cf5c77",
   "metadata": {},
   "outputs": [
    {
     "name": "stdout",
     "output_type": "stream",
     "text": [
      "A cotação do dólar é menor que R$ 5,04? False . O dólar em 15/08/2022 está cotado em R$ 5.1\n"
     ]
    }
   ],
   "source": [
    "#Correção do exercício\n",
    "cotacao_dolar_15082022 = 5.10\n",
    "cotacao_alvo = 5.04\n",
    "valida_cotacao = cotacao_dolar_15082022 < cotacao_alvo\n",
    "\n",
    "print (\"A cotação do dólar é menor que R$ 5,04?\", valida_cotacao, \". O dólar em 15/08/2022 está cotado em R$\", cotacao_dolar_15082022)"
   ]
  },
  {
   "cell_type": "markdown",
   "id": "62a40b57",
   "metadata": {},
   "source": [
    "# Exercício 3 - Aula 1"
   ]
  },
  {
   "cell_type": "markdown",
   "id": "b6b68b9f",
   "metadata": {},
   "source": [
    "Imagine que você seja o/a comprador/a da sua empresa e, durante a licitação precisar avaliar alguns pontos para que você possa realizar a comprar com o melhor custo-benefício.\n",
    "\n",
    "Neste momento você está gerenciando uma licitação de compra de leite e as regras para identificar o melhor custo-benefício são:\n",
    "\n",
    "1 - Litro de leite inferior a R$ 7,00\n",
    "\n",
    "2 - Prazo de validade superior a 6 meses\n",
    "\n",
    "As propostas comerciais apresentadas pelas 3 empresas concorrentes foram:\n",
    "\n",
    "Empresa 1: \n",
    "\n",
    "- Litro: R$7,50\n",
    "\n",
    "- Validade: 12 meses\n",
    "\n",
    "Empresa 2:\n",
    "\n",
    "- Litro: R$ 6,99\n",
    "\n",
    "- Validade: 7 meses\n",
    "\n",
    "Empresa 3:\n",
    "\n",
    "- Litro: R$ 6,00\n",
    "\n",
    "- Validade 3 meses\n",
    "\n",
    "Desenvolva um algoritmo, onde seja possível avaliar qual a Empresa vencedora, de acordo com as regras e propostas e, exiba uma mensagem na tela, da seguinte forma\n",
    "\n",
    "A Empresa vencedora da licitação é a [Nome da Empresa], com o preço de [preco] e validade de [validade]\n"
   ]
  },
  {
   "cell_type": "code",
   "execution_count": 56,
   "id": "92064019",
   "metadata": {},
   "outputs": [
    {
     "name": "stdout",
     "output_type": "stream",
     "text": [
      "False True\n"
     ]
    }
   ],
   "source": [
    "#Correção exercício 3\n",
    "#variáveis\n",
    "litro_alvo = 7\n",
    "validade_alvo = 6\n",
    "\n",
    "#Empresa 1\n",
    "litro_empresa1 = 7.50\n",
    "validade_empresa1 = 12\n",
    "\n",
    "Valida_litro_empresa1 = litro_empresa1 < litro_alvo\n",
    "valida_validade_empresa1 = validade_empresa1 > validade_alvo\n",
    "\n",
    "print(Valida_litro_empresa1,valida_validade_empresa1)"
   ]
  },
  {
   "cell_type": "code",
   "execution_count": 62,
   "id": "c8d40ef4",
   "metadata": {},
   "outputs": [
    {
     "name": "stdout",
     "output_type": "stream",
     "text": [
      "True True\n"
     ]
    }
   ],
   "source": [
    "#Empresa 2\n",
    "litro_empresa2 = 6.99\n",
    "validade_empresa2 = 7\n",
    "\n",
    "Valida_litro_empresa2 = litro_empresa2 < litro_alvo\n",
    "valida_validade_empresa2 = validade_empresa2 > validade_alvo\n",
    "\n",
    "\n",
    "print(Valida_litro_empresa2,valida_validade_empresa2)"
   ]
  },
  {
   "cell_type": "code",
   "execution_count": 63,
   "id": "762f6d1f",
   "metadata": {},
   "outputs": [
    {
     "name": "stdout",
     "output_type": "stream",
     "text": [
      "True False\n"
     ]
    }
   ],
   "source": [
    "#Empresa 3\n",
    "litro_empresa3 = 6\n",
    "validade_empresa3 = 3\n",
    "\n",
    "Valida_litro_empresa3 = litro_empresa3 < litro_alvo\n",
    "valida_validade_empresa3 = validade_empresa3 > validade_alvo\n",
    "\n",
    "print(Valida_litro_empresa3,valida_validade_empresa3)"
   ]
  },
  {
   "cell_type": "code",
   "execution_count": 65,
   "id": "54c8c4d0",
   "metadata": {},
   "outputs": [
    {
     "name": "stdout",
     "output_type": "stream",
     "text": [
      "A Empresa vencedora da licitação é a Empresa 2, com o preço de R$ 6.99 e validade de 7 meses\n"
     ]
    }
   ],
   "source": [
    "#Resutado\n",
    "print(\"A Empresa vencedora da licitação é a Empresa 2, com o preço de R$\", litro_empresa2, \"e validade de\",validade_empresa2, \"meses\")"
   ]
  }
 ],
 "metadata": {
  "kernelspec": {
   "display_name": "Python 3 (ipykernel)",
   "language": "python",
   "name": "python3"
  },
  "language_info": {
   "codemirror_mode": {
    "name": "ipython",
    "version": 3
   },
   "file_extension": ".py",
   "mimetype": "text/x-python",
   "name": "python",
   "nbconvert_exporter": "python",
   "pygments_lexer": "ipython3",
   "version": "3.9.12"
  }
 },
 "nbformat": 4,
 "nbformat_minor": 5
}
