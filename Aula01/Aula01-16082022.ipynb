{
 "cells": [
  {
   "cell_type": "markdown",
   "id": "045c7cc3",
   "metadata": {},
   "source": [
    "# FUNDAMENTOS - Tipo de célula Heading"
   ]
  },
  {
   "cell_type": "markdown",
   "id": "cc7f501d",
   "metadata": {},
   "source": [
    "Link para acessar todo o material: https://github.com/claudiobonel/Python-Fundamentos - Tipo de Célula Markdown"
   ]
  },
  {
   "cell_type": "raw",
   "id": "cf87bca3",
   "metadata": {},
   "source": [
    "Print: Sua primeira linha de código em Python (Pode ser utilizada como um cabeçaho de célula) - Tipo de Célula Raw NBConvert"
   ]
  },
  {
   "cell_type": "code",
   "execution_count": 3,
   "id": "7c9fe141",
   "metadata": {},
   "outputs": [
    {
     "name": "stdout",
     "output_type": "stream",
     "text": [
      "O correto é Bixxxxcoito!\n"
     ]
    }
   ],
   "source": [
    "#Tipo de Célula Code ----- o Símbolo \"#\" indica que virá um trecho de código ou texto que servirá somente como comentário,\n",
    "#ou seja, não interfere na execução do código\n",
    "#Imprimir na tela a mensagem \"O correto é Bixxxxcoito!\"\n",
    "#Usando a função Print para imprimir\n",
    "\n",
    "print(\"O correto é Bixxxxcoito!\")\n"
   ]
  },
  {
   "cell_type": "markdown",
   "id": "262d3e16",
   "metadata": {},
   "source": [
    "# Exercício 1"
   ]
  },
  {
   "cell_type": "markdown",
   "id": "4354cbcd",
   "metadata": {},
   "source": [
    "Você foi solicitado a desenvolver um script, onde toda vez que ele for executado, deverá exibir uma mensagem a sua escolha."
   ]
  },
  {
   "cell_type": "code",
   "execution_count": 4,
   "id": "1392fe66",
   "metadata": {},
   "outputs": [
    {
     "name": "stdout",
     "output_type": "stream",
     "text": [
      "Pois a torcida Americana é toda assim! A começar por mim!\n"
     ]
    }
   ],
   "source": [
    "#Correção: Exercício 1\n",
    "\n",
    "print(\"Pois a torcida Americana é toda assim! A começar por mim!\")"
   ]
  },
  {
   "cell_type": "markdown",
   "id": "cce3afd5",
   "metadata": {},
   "source": [
    "# Variáveis"
   ]
  },
  {
   "cell_type": "markdown",
   "id": "f2118637",
   "metadata": {},
   "source": [
    "São utilizadas para armazenar um dado que vamos utilziar com frequência"
   ]
  },
  {
   "cell_type": "code",
   "execution_count": 5,
   "id": "d23a560d",
   "metadata": {},
   "outputs": [
    {
     "name": "stdout",
     "output_type": "stream",
     "text": [
      "2\n"
     ]
    }
   ],
   "source": [
    "#Imagine que você precise utilizar o número 2 em vários de seus cálculos.\n",
    "\n",
    "#Para isso, cria-se uma variável. Que pode ser qualquer nome (evite utiizar espaços, acentuação, caracteres especiais)\n",
    "numero_2 = 2\n",
    "\n",
    "#Imprimir resultado da variável\n",
    "print (numero_2)"
   ]
  },
  {
   "cell_type": "markdown",
   "id": "a3d6d97c",
   "metadata": {},
   "source": [
    "# Tipos de variáveis"
   ]
  },
  {
   "cell_type": "markdown",
   "id": "fbc03f88",
   "metadata": {},
   "source": [
    "Número Inteiro"
   ]
  },
  {
   "cell_type": "code",
   "execution_count": 6,
   "id": "e792fa38",
   "metadata": {},
   "outputs": [
    {
     "name": "stdout",
     "output_type": "stream",
     "text": [
      "100\n"
     ]
    }
   ],
   "source": [
    "#Conforme vimos no exemplo anterior\n",
    "#Imagine que você precise sempre percentualizar o resultado de seus cálculos, dividindo por 100\n",
    "\n",
    "numero_inteiro_100 = 100\n",
    "\n",
    "print(numero_inteiro_100)"
   ]
  },
  {
   "cell_type": "markdown",
   "id": "09b6c4b3",
   "metadata": {},
   "source": [
    "Texto (String)"
   ]
  },
  {
   "cell_type": "code",
   "execution_count": 7,
   "id": "83a208b0",
   "metadata": {},
   "outputs": [
    {
     "name": "stdout",
     "output_type": "stream",
     "text": [
      "Centro de custo\n"
     ]
    }
   ],
   "source": [
    "#Imagine que você sempre precise utilizar o texto \"Centro de custo\" durante o desenvolvimento do seu script\n",
    "\n",
    "texto = \"Centro de custo\"\n",
    "\n",
    "print (texto)"
   ]
  },
  {
   "cell_type": "markdown",
   "id": "d1903d55",
   "metadata": {},
   "source": [
    "Número Decimal"
   ]
  },
  {
   "cell_type": "code",
   "execution_count": 8,
   "id": "4700fa4c",
   "metadata": {},
   "outputs": [
    {
     "name": "stdout",
     "output_type": "stream",
     "text": [
      "0.5\n"
     ]
    }
   ],
   "source": [
    "#Ponto de atenção é a utilização de \".\" no lugar da \",\"\n",
    "\n",
    "#Imagine que você precise utilizar sempre multiplicar o resultado de seus cálculo por 0.5\n",
    "\n",
    "numero_decimal = 0.5\n",
    "\n",
    "print (numero_decimal)"
   ]
  },
  {
   "cell_type": "code",
   "execution_count": 9,
   "id": "ecdd41f9",
   "metadata": {},
   "outputs": [
    {
     "name": "stdout",
     "output_type": "stream",
     "text": [
      "(0, 5)\n"
     ]
    }
   ],
   "source": [
    "#E seu esquecer e colocar \",\"?\n",
    "\n",
    "numero_decimal = 0,5\n",
    "\n",
    "print (numero_decimal)"
   ]
  },
  {
   "cell_type": "code",
   "execution_count": 10,
   "id": "20c157e1",
   "metadata": {},
   "outputs": [],
   "source": [
    "#Perceba que o resultado é um conjunto de números, pois a vírgula representa justamente isso. \n",
    "#Veremos com mais detalhes, adiante."
   ]
  },
  {
   "cell_type": "markdown",
   "id": "e94c1a41",
   "metadata": {},
   "source": [
    "# Boleano (Lógica) - Comparação entre dados, Retorna True ou False\n",
    "\n",
    "# Operadores de comparação:\n",
    "\n",
    "# == Igual\n",
    "# > Maior que\n",
    "# >= Maior ou igual que\n",
    "# < Menor que\n",
    "# <= Menor ou igual que\n",
    "# <> Diferente"
   ]
  },
  {
   "cell_type": "code",
   "execution_count": 11,
   "id": "02f0ec07",
   "metadata": {},
   "outputs": [
    {
     "name": "stdout",
     "output_type": "stream",
     "text": [
      "False\n"
     ]
    }
   ],
   "source": [
    "#Imagine que você precisa verificar se um determinado produto possui o preço acima de 100\n",
    "#Para isso, um teste lógico, comparando o preço do produto com o valor alvo (100) é um excelente caminho\n",
    "#Imagine que o preço do produto seja 85\n",
    "\n",
    "valor = 85>100\n",
    "\n",
    "print (valor)"
   ]
  },
  {
   "cell_type": "code",
   "execution_count": 12,
   "id": "3b570bc4",
   "metadata": {},
   "outputs": [
    {
     "name": "stdout",
     "output_type": "stream",
     "text": [
      "True\n"
     ]
    }
   ],
   "source": [
    "#Imagine que o preço do produto seja 115\n",
    "\n",
    "valor = 115>100\n",
    "\n",
    "print (valor)"
   ]
  },
  {
   "cell_type": "markdown",
   "id": "1294f6b4",
   "metadata": {},
   "source": [
    "# Exemplo: Integrando variáveis"
   ]
  },
  {
   "cell_type": "markdown",
   "id": "bd6ce934",
   "metadata": {},
   "source": [
    "Você foi solicitado a desenvolver um algoritmo onde seja possível exibir uma mensagem na tela, de modo a verificar se o preço do kilo da alcatra está abaixo de R$ 31,00.\n",
    "\n",
    "Supondo que o preço atual do kilo da alcatra seja R$ 29,50.\n",
    "\n",
    "Compare com a condição que foi solicitada e exiba uma mensagem na tela \"O preço está menor que R$ 31,00?\", concatenado com o resultado da comparação de valores. Além de eibir o valor atual."
   ]
  },
  {
   "cell_type": "code",
   "execution_count": 13,
   "id": "65959ef9",
   "metadata": {},
   "outputs": [
    {
     "name": "stdout",
     "output_type": "stream",
     "text": [
      "O preço está menor que R$ 31,00? True . O valor do kilo da alcatra é de R$ 29.5\n"
     ]
    }
   ],
   "source": [
    "preco_alvo = 31.00\n",
    "preco_kilo = 29.50\n",
    "valida_preco =  preco_kilo < preco_alvo\n",
    "\n",
    "print(\"O preço está menor que R$ 31,00?\",valida_preco, \". O valor do kilo da alcatra é de R$\", preco_kilo)"
   ]
  },
  {
   "cell_type": "markdown",
   "id": "5f2a813e",
   "metadata": {},
   "source": [
    "# Exercício 2: Integrando variáveis"
   ]
  },
  {
   "cell_type": "markdown",
   "id": "8053c0c0",
   "metadata": {},
   "source": [
    "Você foi solicitado a desenvolver um algoritmo onde seja possível exibir um mensagem na tela, baseado na comparação da cotação do dólar com o limite proposto pela organização que é de R$ 5,04.\n",
    "\n",
    "Verifique a cotação do dia, compare-o com o limite proposto e exiba uma mensagem na tela \"A cotação do dólar é menor que R$ 5,04?\", concatenado com o resultado da comparação de valores. Exiba também, na mesma mensagem, a informação do valor da cotação atual."
   ]
  },
  {
   "cell_type": "code",
   "execution_count": 14,
   "id": "a1cf5c77",
   "metadata": {},
   "outputs": [
    {
     "name": "stdout",
     "output_type": "stream",
     "text": [
      "A cotação do dólar é menor que R$ 5,04? False . O dólar em 15/08/2022 está cotado em R$ 5.1\n"
     ]
    }
   ],
   "source": [
    "#Correção do exercício\n",
    "cotacao_dolar_15082022 = 5.10\n",
    "cotacao_alvo = 5.04\n",
    "valida_cotacao = cotacao_dolar_15082022 < cotacao_alvo\n",
    "\n",
    "print (\"A cotação do dólar é menor que R$ 5,04?\", valida_cotacao, \". O dólar em 15/08/2022 está cotado em R$\", cotacao_dolar_15082022)"
   ]
  },
  {
   "cell_type": "markdown",
   "id": "5d76253b",
   "metadata": {},
   "source": [
    "# Funções e métodos"
   ]
  },
  {
   "cell_type": "markdown",
   "id": "a95b4fb6",
   "metadata": {},
   "source": [
    "Funções e métodos possuem as mesmas características, ou seja, executar operações com funcionalidades específicas.\n",
    "\n",
    "Quando você deseja uma funcionalidade de imprimir uma mensagem na tela, você utiliza a função \"Print\". Então, perceba que o conceito é bem simples. A funçao tem uma \"funcionalidade\" específica.\n",
    "\n",
    "O método possui a mesma finalidade da função, porém a diferença é que este está associado a um objeto específico. Imagine que você queira substituir o \"C\" (maiusculo) por um \"c\" (minísculo) na variável \"texto\", você utilizar um método chamado \"Replace\".\n",
    "\n",
    "Resumindo.....\n",
    "\n",
    "Funções e métodos possuem a mesma finalidade, ou seja, disponilizar funcionalidades específicas conforme necessidade.\n",
    "A Função é livre e não está associada a nenhum objeto, você pode utilizá-la a qualquer momento.\n",
    "O Método está diretamete associado a um objeto espefícico e sua funcionalidade está diretamente ligada a este objeto."
   ]
  },
  {
   "cell_type": "code",
   "execution_count": 15,
   "id": "647eea24",
   "metadata": {},
   "outputs": [
    {
     "name": "stdout",
     "output_type": "stream",
     "text": [
      "Print é uma função!\n"
     ]
    }
   ],
   "source": [
    "#Exemplo de função\n",
    "\n",
    "print(\"Print é uma função!\")"
   ]
  },
  {
   "cell_type": "code",
   "execution_count": 16,
   "id": "f8e88b0e",
   "metadata": {},
   "outputs": [
    {
     "data": {
      "text/plain": [
       "'centro de custo'"
      ]
     },
     "execution_count": 16,
     "metadata": {},
     "output_type": "execute_result"
    }
   ],
   "source": [
    "#Exemplo de método\n",
    "#Imagine que você queira substituir o \"C\" (maiusculo) por um \"c\" (minísculo) na variável \"texto\", \n",
    "#você utilizar um método chamado \"Replace\".\n",
    "#pressionar tab para visulizar os métodos\n",
    "#shift+tab para visualizar a sintaxe do método\n",
    "\n",
    "texto.replace(\"C\",\"c\")\n",
    "\n"
   ]
  },
  {
   "cell_type": "code",
   "execution_count": 17,
   "id": "82008da4",
   "metadata": {},
   "outputs": [
    {
     "data": {
      "text/plain": [
       "'CENTRO DE CUSTO'"
      ]
     },
     "execution_count": 17,
     "metadata": {},
     "output_type": "execute_result"
    }
   ],
   "source": [
    "#imagine que você queira que todas as letras esteja em maiúsculo\n",
    "\n",
    "texto.upper()"
   ]
  },
  {
   "cell_type": "code",
   "execution_count": 18,
   "id": "f7c1d051",
   "metadata": {},
   "outputs": [
    {
     "name": "stdout",
     "output_type": "stream",
     "text": [
      "Centro de custo\n"
     ]
    }
   ],
   "source": [
    "#para alterar o conteúdo da variável é preciso atribuir o método a mesma\n",
    "\n",
    "#Utilizamos os métodos anterioremente, porém não atribuímos o resultado a varíavel\n",
    "print(texto)"
   ]
  },
  {
   "cell_type": "code",
   "execution_count": 19,
   "id": "4af8f97f",
   "metadata": {},
   "outputs": [
    {
     "name": "stdout",
     "output_type": "stream",
     "text": [
      "CENTRO DE CUSTO\n"
     ]
    }
   ],
   "source": [
    "#Repare que o valor ainda é o original.\n",
    "#Para alterar o conteúodo, deve-se atribuir o método a variável.\n",
    "\n",
    "texto = texto.upper()\n",
    "\n",
    "print(texto)"
   ]
  },
  {
   "cell_type": "code",
   "execution_count": 20,
   "id": "9bdeecf9",
   "metadata": {},
   "outputs": [
    {
     "name": "stdout",
     "output_type": "stream",
     "text": [
      "CENTRO\n"
     ]
    }
   ],
   "source": [
    "#imagine que agora você necessite somente dos 6 primeiros caracteres\n",
    "\n",
    "texto_inicial = texto[:6]\n",
    "\n",
    "print (texto_inicial)"
   ]
  },
  {
   "cell_type": "code",
   "execution_count": 21,
   "id": "7c2c83b8",
   "metadata": {},
   "outputs": [
    {
     "name": "stdout",
     "output_type": "stream",
     "text": [
      "CUSTO\n"
     ]
    }
   ],
   "source": [
    "#imagine que agora você necessite somente dos 6 últimos caracteres\n",
    "\n",
    "texto_final = texto[-5:]\n",
    "\n",
    "print (texto_final)"
   ]
  },
  {
   "cell_type": "code",
   "execution_count": 27,
   "id": "518fa7b7",
   "metadata": {},
   "outputs": [
    {
     "name": "stdout",
     "output_type": "stream",
     "text": [
      "DE\n"
     ]
    }
   ],
   "source": [
    "#imagine que agora você necessite somente dos caracteres do meio\n",
    "\n",
    "texto_meio = texto[7:9]\n",
    "\n",
    "print (texto_meio)"
   ]
  },
  {
   "cell_type": "markdown",
   "id": "62a40b57",
   "metadata": {},
   "source": [
    "# Exercício 3 - Aula 1"
   ]
  },
  {
   "cell_type": "markdown",
   "id": "b6b68b9f",
   "metadata": {},
   "source": [
    "Imagine que você seja o/a comprador/a da sua empresa e, durante a licitação precisar avaliar alguns pontos para que você possa realizar a comprar com o melhor custo-benefício.\n",
    "\n",
    "Neste momento você está gerenciando uma licitação de compra de leite e as regras para identificar o melhor custo-benefício são:\n",
    "\n",
    "1 - Litro de leite inferior a R$ 7,00\n",
    "\n",
    "2 - Prazo de validade superior a 6 meses\n",
    "\n",
    "As propostas comerciais apresentadas pelas 3 empresas concorrentes foram:\n",
    "\n",
    "Empresa 1: \n",
    "\n",
    "- Litro: R$7,50\n",
    "\n",
    "- Validade: 12 meses\n",
    "\n",
    "Empresa 2:\n",
    "\n",
    "- Litro: R$ 6,99\n",
    "\n",
    "- Validade: 7 meses\n",
    "\n",
    "Empresa 3:\n",
    "\n",
    "- Litro: R$ 6,00\n",
    "\n",
    "- Validade 3 meses\n",
    "\n",
    "Desenvolva um algoritmo, onde seja possível avaliar qual a Empresa vencedora, de acordo com as regras e propostas e, exiba uma mensagem na tela, da seguinte forma\n",
    "\n",
    "A Empresa vencedora da licitação é a [Nome da Empresa], com o preço de [preco] e validade de [validade]\n"
   ]
  },
  {
   "cell_type": "code",
   "execution_count": 23,
   "id": "92064019",
   "metadata": {},
   "outputs": [
    {
     "name": "stdout",
     "output_type": "stream",
     "text": [
      "False True\n"
     ]
    }
   ],
   "source": [
    "#Correção exercício 3\n",
    "#variáveis\n",
    "litro_alvo = 7\n",
    "validade_alvo = 6\n",
    "\n",
    "#Empresa 1\n",
    "litro_empresa1 = 7.50\n",
    "validade_empresa1 = 12\n",
    "\n",
    "Valida_litro_empresa1 = litro_empresa1 < litro_alvo\n",
    "valida_validade_empresa1 = validade_empresa1 > validade_alvo\n",
    "\n",
    "print(Valida_litro_empresa1,valida_validade_empresa1)"
   ]
  },
  {
   "cell_type": "code",
   "execution_count": 24,
   "id": "c8d40ef4",
   "metadata": {},
   "outputs": [
    {
     "name": "stdout",
     "output_type": "stream",
     "text": [
      "True True\n"
     ]
    }
   ],
   "source": [
    "#Empresa 2\n",
    "litro_empresa2 = 6.99\n",
    "validade_empresa2 = 7\n",
    "\n",
    "Valida_litro_empresa2 = litro_empresa2 < litro_alvo\n",
    "valida_validade_empresa2 = validade_empresa2 > validade_alvo\n",
    "\n",
    "\n",
    "print(Valida_litro_empresa2,valida_validade_empresa2)"
   ]
  },
  {
   "cell_type": "code",
   "execution_count": 25,
   "id": "762f6d1f",
   "metadata": {},
   "outputs": [
    {
     "name": "stdout",
     "output_type": "stream",
     "text": [
      "True False\n"
     ]
    }
   ],
   "source": [
    "#Empresa 3\n",
    "litro_empresa3 = 6\n",
    "validade_empresa3 = 3\n",
    "\n",
    "Valida_litro_empresa3 = litro_empresa3 < litro_alvo\n",
    "valida_validade_empresa3 = validade_empresa3 > validade_alvo\n",
    "\n",
    "print(Valida_litro_empresa3,valida_validade_empresa3)"
   ]
  },
  {
   "cell_type": "code",
   "execution_count": 26,
   "id": "54c8c4d0",
   "metadata": {},
   "outputs": [
    {
     "name": "stdout",
     "output_type": "stream",
     "text": [
      "A Empresa vencedora da licitação é a Empresa 2, com o preço de R$ 6.99 e validade de 7 meses\n"
     ]
    }
   ],
   "source": [
    "#Resutado\n",
    "print(\"A Empresa vencedora da licitação é a Empresa 2, com o preço de R$\", litro_empresa2, \"e validade de\",validade_empresa2, \"meses\")"
   ]
  },
  {
   "cell_type": "code",
   "execution_count": null,
   "id": "92405e16",
   "metadata": {},
   "outputs": [],
   "source": []
  }
 ],
 "metadata": {
  "kernelspec": {
   "display_name": "Python 3 (ipykernel)",
   "language": "python",
   "name": "python3"
  },
  "language_info": {
   "codemirror_mode": {
    "name": "ipython",
    "version": 3
   },
   "file_extension": ".py",
   "mimetype": "text/x-python",
   "name": "python",
   "nbconvert_exporter": "python",
   "pygments_lexer": "ipython3",
   "version": "3.9.12"
  }
 },
 "nbformat": 4,
 "nbformat_minor": 5
}
