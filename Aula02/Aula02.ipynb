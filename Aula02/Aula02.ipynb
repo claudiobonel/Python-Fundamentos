{
 "cells": [
  {
   "cell_type": "markdown",
   "id": "a9321b20",
   "metadata": {},
   "source": [
    "# CORREÇAO EXERCÍCIO 3 - AULA 1"
   ]
  },
  {
   "cell_type": "markdown",
   "id": "4e7da892",
   "metadata": {},
   "source": [
    "Imagine que você seja o/a comprador/a da sua empresa e, durante a licitação precisar avaliar alguns pontos para que você possa realizar a comprar com o melhor custo-benefício.\n",
    "\n",
    "Neste momento você está gerenciando uma licitação de compra de leite e as regras para identificar o melhor custo-benefício são:\n",
    "\n",
    "1 - Litro de leite inferior a R$ 7,00\n",
    "\n",
    "2 - Prazo de validade superior a 6 meses\n",
    "\n",
    "As propostas comerciais apresentadas pelas 3 empresas concorrentes foram:\n",
    "\n",
    "Empresa 1:\n",
    "\n",
    "-Litro: R$7,50\n",
    "\n",
    "-Validade: 12 meses\n",
    "\n",
    "Empresa 2:\n",
    "\n",
    "-Litro: R$ 6,99\n",
    "\n",
    "-Validade: 7 meses\n",
    "\n",
    "Empresa 3:\n",
    "\n",
    "-Litro: R$ 6,00\n",
    "\n",
    "-Validade 3 meses\n",
    "\n",
    "Desenvolva um algoritmo, onde seja possível avaliar qual a Empresa vencedora, de acordo com as regras e propostas e, exiba uma mensagem na tela, da seguinte forma\n",
    "\n",
    "A Empresa vencedora da licitação é a [Nome da Empresa], com o preço de [preco] e validade de [validade]"
   ]
  },
  {
   "cell_type": "code",
   "execution_count": 37,
   "id": "e56049ee",
   "metadata": {},
   "outputs": [
    {
     "name": "stdout",
     "output_type": "stream",
     "text": [
      "Empresa 1: False True\n",
      "Empresa 2: True True\n",
      "Empresa 3: True False\n"
     ]
    }
   ],
   "source": [
    "#Correção exercício 3\n",
    "#variáveis\n",
    "litro_alvo = 7\n",
    "validade_alvo = 6\n",
    "\n",
    "#Empresa 1\n",
    "litro_empresa1 = 7.50\n",
    "validade_empresa1 = 12\n",
    "\n",
    "Valida_litro_empresa1 = litro_empresa1 < litro_alvo\n",
    "valida_validade_empresa1 = validade_empresa1 > validade_alvo\n",
    "\n",
    "print(\"Empresa 1:\", Valida_litro_empresa1,valida_validade_empresa1)\n",
    "\n",
    "#Empresa 2\n",
    "litro_empresa2 = 6.99\n",
    "validade_empresa2 = 7\n",
    "\n",
    "Valida_litro_empresa2 = litro_empresa2 < litro_alvo\n",
    "valida_validade_empresa2 = validade_empresa2 > validade_alvo\n",
    "\n",
    "\n",
    "print(\"Empresa 2:\", Valida_litro_empresa2,valida_validade_empresa2)\n",
    "\n",
    "#Empresa 3\n",
    "litro_empresa3 = 6\n",
    "validade_empresa3 = 3\n",
    "\n",
    "Valida_litro_empresa3 = litro_empresa3 < litro_alvo\n",
    "valida_validade_empresa3 = validade_empresa3 > validade_alvo\n",
    "\n",
    "print(\"Empresa 3:\", Valida_litro_empresa3,valida_validade_empresa3)"
   ]
  },
  {
   "cell_type": "code",
   "execution_count": 38,
   "id": "c51da911",
   "metadata": {},
   "outputs": [
    {
     "name": "stdout",
     "output_type": "stream",
     "text": [
      "A Empresa vencedora da licitação é a Empresa 2, com o preço de R$ 6.99 e validade de 7 meses\n"
     ]
    }
   ],
   "source": [
    "#Resutado - Exercício 3 - Empresa vencedora\n",
    "print(\"A Empresa vencedora da licitação é a Empresa 2, com o preço de R$\", litro_empresa2, \"e validade de\",validade_empresa2, \"meses\")"
   ]
  },
  {
   "cell_type": "markdown",
   "id": "3dce13fa",
   "metadata": {},
   "source": [
    "# ESTRUTURA CONDICIONAL - if/else/elif"
   ]
  },
  {
   "cell_type": "markdown",
   "id": "5bc5f0d2",
   "metadata": {},
   "source": [
    "Estruturas condicionais tem como objetivo controlar um determinado fluxo de execução de código, através de condições, ou seja, executar uma determinada ação se e, somente se, uma condição for satisfatória.\n",
    "\n",
    "Controles de fuxo são comuns em scripts de qualquer linguagem de programação e no Python NÃO é diferente! "
   ]
  },
  {
   "cell_type": "raw",
   "id": "bfa49c5a",
   "metadata": {},
   "source": [
    "Exemplo:\n",
    "\n",
    "O seu gestor te solicitou a criação de um programa, onde seja possível somar 5% de bônus ao salário do/a vendedor/a, quando ele/a atingir ou superar 105% da meta.\n",
    "\n",
    "cálculo do atingimento de meta:\n",
    "\n",
    "(valor vendido/meta)*100\n",
    "\n",
    "Bônus:\n",
    "\n",
    "Se a atingimento de meta for maior ou igual a 105, então calcula-se o bônus da seguinte forma:\n",
    "\n",
    "(Valor vendido * bonus/100)\n",
    "\n",
    "Suponha que:\n",
    "\n",
    "Vendedora: Maria\n",
    "- Valor Vendido: R$ 1.700\n",
    "- Meta: R$ 1.610\n",
    "- Salário base: R$ 5.400"
   ]
  },
  {
   "cell_type": "code",
   "execution_count": 63,
   "id": "bdcacea6",
   "metadata": {},
   "outputs": [
    {
     "name": "stdout",
     "output_type": "stream",
     "text": [
      "Nome: Maria\n",
      "Aingimento da meta: 105.59006211180125\n",
      "Salário: 5400\n",
      "Bônus: 270.0\n",
      "Salário total: 5670.0\n"
     ]
    }
   ],
   "source": [
    "#CONDIÇÃO ACIMA DE 105\n",
    "#variáveis da vendedora\n",
    "vendedora = \"Maria\"\n",
    "valor_vendido = 1700\n",
    "meta = 1610\n",
    "salario_base = 5400\n",
    "bonus = 5\n",
    "\n",
    "#Calculo do atingimento da meta\n",
    "atingimento_meta = (valor_vendido*100/meta)\n",
    "\n",
    "#verificar atingimento da meta\n",
    "if atingimento_meta >= 105:\n",
    "    bonus = salario_base*(bonus/100)\n",
    "    salario_com_bonus = salario_base + bonus\n",
    "    print(\"Nome:\", vendedora)\n",
    "    print(\"Aingimento da meta:\", atingimento_meta)\n",
    "    print(\"Salário:\",salario_base)\n",
    "    print(\"Bônus:\",bonus)\n",
    "    print(\"Salário total:\",salario_com_bonus)\n",
    "else:\n",
    "    print(vendedora, \"não atingiu a meta!\")\n",
    "    "
   ]
  },
  {
   "cell_type": "code",
   "execution_count": 1,
   "id": "aa928295",
   "metadata": {},
   "outputs": [
    {
     "name": "stdout",
     "output_type": "stream",
     "text": [
      "Aingimento da meta: 93.17\n",
      "Maria não atingiu a meta!\n"
     ]
    }
   ],
   "source": [
    "#simulando o NÃO atingimento da meta (valor_vendido = 1500) e arredondando o valor \"atingtimento_meta\" - CONDIÇÃO ABAIXO DE 105\n",
    "#variáveis\n",
    "vendedora = \"Maria\"\n",
    "valor_vendido = 1500\n",
    "meta = 1610\n",
    "salario_base = 5400\n",
    "bonus = 5\n",
    "\n",
    "#Calculo do atingimento da meta\n",
    "atingimento_meta = round((valor_vendido*100/meta),2)\n",
    "\n",
    "#verificar atingimento da meta\n",
    "if atingimento_meta >= 105:\n",
    "    bonus = salario_base*(bonus/100)\n",
    "    salario_com_bonus = salario_base + bonus\n",
    "    print(\"Nome:\", vendedora)\n",
    "    print(\"Aingimento da meta:\", atingimento_meta)\n",
    "    print(\"Salário:\",salario_base)\n",
    "    print(\"Bônus:\",bonus)\n",
    "    print(\"Salário total:\",salario_com_bonus)\n",
    "else:\n",
    "    print(\"Aingimento da meta:\", atingimento_meta)\n",
    "    print(vendedora, \"não atingiu a meta!\")"
   ]
  },
  {
   "cell_type": "code",
   "execution_count": null,
   "id": "f2be9a2a",
   "metadata": {},
   "outputs": [],
   "source": [
    "#CONDIÇÃO ABAIXO DE 105 E ARREDONDAMENTO \n",
    "#variáveis da vendedora\n",
    "\n",
    "# COMENTANDO UM BLOCO DE CÓDIGO\n",
    "\"\"\" \n",
    "    vendedora = \"Maria\"\n",
    "    valor_vendido = 1600\n",
    "    meta = 1610\n",
    "    salario_base = 5400\n",
    "    bonus = 5\n",
    "\"\"\" \n",
    "#FIM DO COMENTÁRIO DE BLOCO\n",
    "\n",
    "#cálculo atingimento da meta\n",
    "atingimento_meta = round(((valor_vendido/meta)*100),2)\n",
    "\n",
    "#Verificar se há bônus\n",
    "if atingimento_meta >= 105:\n",
    "    #ganha o bônus se a condição for verdadeira\n",
    "    bonus_vendedor = (valor_vendido*bonus)/100\n",
    "    salario_final = salario_base + bonus_vendedor\n",
    "    print(\"Vendedora:\", vendedora)\n",
    "    print(\"Atingimento:\",atingimento_meta)\n",
    "    print(\"Salário:\",salario_base)\n",
    "    print(\"Bônus:\",bonus_vendedor)\n",
    "    print(\"Salário final\",salario_final)\n",
    "else: #condição falsa\n",
    "    print(vendedora, \"não atingiu a meta\")\n",
    "    print(\"Atingimento:\", atingimento_meta)"
   ]
  },
  {
   "cell_type": "markdown",
   "id": "f4550870",
   "metadata": {},
   "source": [
    "Ajustando o Exercício 3 - Utilizando uma estrutura condicional\n",
    "\n",
    "Operadores Lógicos:\n",
    "\n",
    "- AND - Todas as condições precisam ser verdadeiras, para retornar TRUE. Se apenas 1 condição for false, o resultado é FALSE\n",
    "- OR - Apenas 1 condição precisa ser verdadeira, para retornar TRUE. Para o resultado ser FALSE, todas as condições precisam ser falsas.\n",
    "- NOT - Inverte o resultado do operador AND e OR"
   ]
  },
  {
   "cell_type": "code",
   "execution_count": 3,
   "id": "6a5250a2",
   "metadata": {},
   "outputs": [
    {
     "name": "stdout",
     "output_type": "stream",
     "text": [
      "Empresa 2 vencedora\n"
     ]
    }
   ],
   "source": [
    "#Correção exercício 3\n",
    "#variáveis\n",
    "litro_alvo = 7\n",
    "validade_alvo = 6\n",
    "\n",
    "#Empresa 1\n",
    "litro_empresa1 = 7.50\n",
    "validade_empresa1 = 12\n",
    "\n",
    "#Empresa 2\n",
    "litro_empresa2 = 6.99\n",
    "validade_empresa2 = 7\n",
    "\n",
    "#Empresa 3\n",
    "litro_empresa3 = 6\n",
    "validade_empresa3 = 3\n",
    "\n",
    "if (litro_empresa1 < litro_alvo and validade_empresa1 > validade_alvo):\n",
    "    print (\"Empresa 1 vencedora\")\n",
    "elif (litro_empresa2 < litro_alvo and validade_empresa2 > validade_alvo):\n",
    "    print (\"Empresa 2 vencedora\")\n",
    "elif (litro_empresa3 < litro_alvo and validade_empresa3 > validade_alvo):\n",
    "    print (\"Empresa 3 vencedora\")\n",
    "else:\n",
    "    print(\"Não houve empresa vencedora! Geral perdeu!\")\n"
   ]
  },
  {
   "cell_type": "markdown",
   "id": "2b4ff1e3",
   "metadata": {},
   "source": [
    "# Exercício 4"
   ]
  },
  {
   "cell_type": "markdown",
   "id": "8ca4cb54",
   "metadata": {},
   "source": [
    "Você é a pessoa gestora do DP da sua empresa e, além disso, manja dos paranauês do Python, diante disso você teve a grande ideia de criar um programa, onde seja possível calular a taxa de absenteísmo, bem como identificar qual departamento da empresa possui a maior.\n",
    "\n",
    "Sabendo que o cálculo da taxa de absenteísmo é: \n",
    "\n",
    "(Ausências não planejadas/Horas de trabalho planejadas)*100\n",
    "\n",
    "E os dados dos departamentos são:\n",
    "\n",
    "Departamento: Marketing\n",
    "- Ausências não planejadas: 3\n",
    "- Horas de trabalho planejadas: 1600\n",
    "\n",
    "Departamento: Comercial\n",
    "- Ausências não planejadas: 2\n",
    "- Horas de trabalho planejadas: 800\n",
    "\n",
    "Departamento: Operações\n",
    "- Ausências não planejadas: 5\n",
    "- Horas de trabalho planejadas: 3200\n",
    "\n",
    "Exiba uma mensagem informando qual o departamento com a maior taxa de absenteísmo e o seu valor com apenas 2 casas decimais."
   ]
  },
  {
   "cell_type": "code",
   "execution_count": 5,
   "id": "fc42489e",
   "metadata": {},
   "outputs": [
    {
     "name": "stdout",
     "output_type": "stream",
     "text": [
      "Comercial possui a maior taxa de absenteísmo: 0.25\n"
     ]
    }
   ],
   "source": [
    "#Correção exercício 4\n",
    "#variáveis\n",
    "#Marketing\n",
    "ausencias_mkt = 3\n",
    "horas_mkt = 1600\n",
    "tx_absenteismo_mkt = (ausencias_mkt/horas_mkt)*100\n",
    "#print(tx_absenteismo_mkt)\n",
    "\n",
    "#comercial\n",
    "ausencias_com = 2\n",
    "horas_com = 800\n",
    "tx_absenteismo_com = (ausencias_com/horas_com)*100\n",
    "#print(tx_absenteismo_com)\n",
    "\n",
    "#operações\n",
    "ausencias_op = 5\n",
    "horas_op = 3200\n",
    "tx_absenteismo_op = (ausencias_op/horas_op)*100\n",
    "#print(tx_absenteismo_op)\n",
    "\n",
    "if (tx_absenteismo_mkt > tx_absenteismo_com and tx_absenteismo_mkt > tx_absenteismo_op):\n",
    "    print(\"Markting possui a maior taxa de absenteísmo:\",round(tx_absenteismo_mkt,2))\n",
    "elif (tx_absenteismo_com > tx_absenteismo_mkt and tx_absenteismo_com > tx_absenteismo_op):\n",
    "    print(\"Comercial possui a maior taxa de absenteísmo:\",round(tx_absenteismo_com,2))\n",
    "elif (tx_absenteismo_op > tx_absenteismo_com and tx_absenteismo_op > tx_absenteismo_mkt):\n",
    "    print(\"Operações possui a maior taxa de absenteísmo:\",round(tx_absenteismo_cop,2))\n",
    "else:\n",
    "    print(\"Houve empate entre os departamentos!\")"
   ]
  },
  {
   "cell_type": "markdown",
   "id": "7056bc85",
   "metadata": {},
   "source": [
    "# Interação de usuários com o seu script (Input)"
   ]
  },
  {
   "cell_type": "markdown",
   "id": "02320d76",
   "metadata": {},
   "source": [
    "A função \"input\" oferece a possbilidade dos/as usuários/as interagirem com o seu script, informando seus próprios dados.\n",
    "É possível inserir dados de texto, número inteiro e número decimal. O padrão da função \"input\" é receber dados de texto, portanto que for necessário a inserção de dados numéricos, usaremos as seguintes funções aninhadas ao \"input\":\n",
    "- float: Para números decimais. Ex.: float(input())\n",
    "- int: Para números inteiros. Ex.: int(input())"
   ]
  },
  {
   "cell_type": "code",
   "execution_count": 67,
   "id": "474a101f",
   "metadata": {},
   "outputs": [
    {
     "name": "stdout",
     "output_type": "stream",
     "text": [
      "Nome da concorrente:A\n",
      "Valor do litro:1\n",
      "Validade em meses:1\n",
      "Empresa não atende aos requisitos de custo-benefício\n"
     ]
    }
   ],
   "source": [
    "#Vamos tomar como base o cenário do Exercício 3\n",
    "#variáveis\n",
    "litro_alvo = 7\n",
    "validade_alvo = 6\n",
    "\n",
    "nome_concorrente = input(\"Nome da concorrente:\") #para dados do tipo texto, basta manter o padrão.\n",
    "litro_concorrente = float(input(\"Valor do litro:\")) #conversão para decimal. Float aninhada com input (Simular sem a função, para exibir o erro)\n",
    "validade_concorrente = int(input(\"Validade em meses:\")) #conversão para inteiro. Int aninhada com input (Simular sem a função, para exibir o erro)\n",
    "\n",
    "if (litro_concorrente < litro_alvo and validade_concorrente > validade_alvo):\n",
    "    print (nome_concorrente, \"atende aos requisitos de custo-benefício\")\n",
    "else:\n",
    "    print (\"Empresa não atende aos requisitos de custo-benefício\")\n",
    "    \n"
   ]
  },
  {
   "cell_type": "markdown",
   "id": "b2809af5",
   "metadata": {},
   "source": [
    "# Interação de usuários com o seu script (Input), armazenado dados inseridos em Listas"
   ]
  },
  {
   "cell_type": "markdown",
   "id": "e664a968",
   "metadata": {},
   "source": [
    "A Lista é delimitada pelos sinais de colchetes: “[“ e “]” e todos os elementos pertencentes a ela são separados por vírgulas. \n",
    "Os valores armazenados em uma lista podem ser manipulados, utilizando métodos específicos.\n",
    "\n",
    "As listas são úteis para armazenar vários dados em uma única variável. Um lista pode conter diversos tipos de dados, como textos e números. Porém, recomenda-se criar uma lista para cada tipo de entrada de dado, de forma a categorizar o dado."
   ]
  },
  {
   "cell_type": "markdown",
   "id": "21c37c74",
   "metadata": {},
   "source": [
    "Suponha que agora, além de analisar os dados dos concorrentes para a licitação do litro de leite, também seja necessário armazená-los em 2 categorias: \"Atendem\" e \"Não atendem\", para futuras análises.\n",
    "\n",
    "Os dados dos concorrentes são:\n",
    "\n",
    "Empresa 1:\n",
    "- Litro: R$ 6.98\n",
    "- Validade: 12\n",
    "\n",
    "Empresa 2:\n",
    "- Litro: R$ 8.14\n",
    "- Validade: 6 meses\n",
    "\n",
    "Empresa 3:\n",
    "- Litro: R$ 5\n",
    "- Validade: 13 meses\n",
    "\n",
    "Empresa 4:\n",
    "- Litro: R$ 3.40\n",
    "- Validade: 2 meses\n",
    "\n",
    "Empresa 5:\n",
    "- Litro: R$ 9.97\n",
    "- Validade: 6 meses\n",
    "\n",
    "E os requisitos para que uma Empresa atenda são:\n",
    "- Litro: R$ 7\n",
    "- Validade: 6 meses"
   ]
  },
  {
   "cell_type": "code",
   "execution_count": 7,
   "id": "8a014fdd",
   "metadata": {},
   "outputs": [],
   "source": [
    "#criando listas\n",
    "#deve-se criar separado, para não apagar a lista toda hora.\n",
    "lista_concorrentes_atendem = []\n",
    "lista_preco_litro = []\n",
    "lista_validade = []\n",
    "\n",
    "lista_concorrentes_nao_atendem = []\n",
    "lista_preco_litro_nao_atende = []\n",
    "lista_validade_nao_atende = []"
   ]
  },
  {
   "cell_type": "code",
   "execution_count": 13,
   "id": "1bf56619",
   "metadata": {},
   "outputs": [
    {
     "name": "stdout",
     "output_type": "stream",
     "text": [
      "Nome da concorrente:Empresa 5\n",
      "Valor do litro:9.97\n",
      "Validade em meses:6\n",
      "Empresa não atende aos requisitos de custo-benefício\n",
      "\n",
      "Registro dos dados dos concorrentes que atendem aos requisitos\n",
      "Lista dos concorrentes: ['Empresa 1', 'Empresa 3'] Lista dos preços: [6.98, 5.0] Lista das validades: [12, 13]\n",
      "\n",
      "Registro dos dados dos concorrentes que NÃO atendem aos requisitos\n",
      "Lista dos concorrentes que NÃO atendem: ['Empresa 2', 'Empresa 4', 'Empresa 5'] Lista dos preços: [8.14, 3.4, 9.97] Lista das validades: [6, 2, 6]\n"
     ]
    }
   ],
   "source": [
    "#variáveis\n",
    "litro_alvo = 7\n",
    "validade_alvo = 6\n",
    "\n",
    "nome_concorrente = input(\"Nome da concorrente:\")\n",
    "litro_concorrente = float(input(\"Valor do litro:\")) #conversão para decimal\n",
    "validade_concorrente = int(input(\"Validade em meses:\")) #conversão para inteiro\n",
    "\n",
    "if (litro_concorrente < litro_alvo and validade_concorrente > validade_alvo):\n",
    "    print (nome_concorrente, \"atende aos requisitos de custo-benefício\")\n",
    "    lista_concorrentes_atendem.append(nome_concorrente)\n",
    "    lista_preco_litro.append(litro_concorrente)\n",
    "    lista_validade.append(validade_concorrente)\n",
    "else:\n",
    "    print (\"Empresa não atende aos requisitos de custo-benefício\")\n",
    "    lista_concorrentes_nao_atendem.append(nome_concorrente)\n",
    "    lista_preco_litro_nao_atende.append(litro_concorrente)\n",
    "    lista_validade_nao_atende.append(validade_concorrente)\n",
    "\n",
    "print(\"\")\n",
    "print(\"Registro dos dados dos concorrentes que atendem aos requisitos\")\n",
    "print(\"Lista dos concorrentes:\",lista_concorrentes_atendem,\"Lista dos preços:\",lista_preco_litro,\n",
    "      \"Lista das validades:\",lista_validade)\n",
    "\n",
    "print(\"\")\n",
    "print(\"Registro dos dados dos concorrentes que NÃO atendem aos requisitos\")\n",
    "print(\"Lista dos concorrentes que NÃO atendem:\",lista_concorrentes_nao_atendem,\n",
    "      \"Lista dos preços:\",lista_preco_litro_nao_atende,\"Lista das validades:\",lista_validade_nao_atende)"
   ]
  },
  {
   "cell_type": "markdown",
   "id": "0d1c0285",
   "metadata": {},
   "source": [
    "# Manipulando dados em listas"
   ]
  },
  {
   "cell_type": "markdown",
   "id": "f3432b51",
   "metadata": {},
   "source": [
    "Imagine que agora que eu tenho as listas carregadas, precise identificar, dentro das listas dos concorrentes que atendem, qual a vencedora?\n",
    "\n",
    "Em casos de empate, é necessário que exista uma regra de desempate. Vamos imaginar que a regra seja: Em caso de empate, a empresa vencedora será a que apresentar o resultado menor do seguinte cálculo: \n",
    "\n",
    "(valor do litro de leite + validade)"
   ]
  },
  {
   "cell_type": "code",
   "execution_count": 14,
   "id": "c19e30d3",
   "metadata": {},
   "outputs": [
    {
     "name": "stdout",
     "output_type": "stream",
     "text": [
      "Empresa 3 é a vencedora com o preço estipulado em 5.0 e a validade em 13 meses.\n"
     ]
    }
   ],
   "source": [
    "#Dos concorrentes que atendem, qual a melhor empresa?\n",
    "#Para cenários como este deve-se utilizar a seguinte regra de custo-benefício:\n",
    "#valor do litro de leite + validade. \n",
    "#A empresa escolhida será que tiver esse número menor\n",
    "\n",
    "if (lista_preco_litro[0] + lista_validade[0] < lista_preco_litro[1] + lista_validade[1]):\n",
    "        print(lista_concorrentes_atendem[0], \"é a vencedora com o preço estipulado em\", lista_preco_litro[0], \"e a validade em\",\n",
    "         lista_validade[0], \"meses.\")\n",
    "else:\n",
    "   print(lista_concorrentes_atendem[1], \"é a vencedora com o preço estipulado em\", lista_preco_litro[1], \"e a validade em\",\n",
    "         lista_validade[1], \"meses.\")\n"
   ]
  },
  {
   "cell_type": "code",
   "execution_count": 80,
   "id": "a753cae1",
   "metadata": {},
   "outputs": [],
   "source": [
    "#Alterando o valor de uma lista\n",
    "#Alterar vlor para 3.98 e executar a validação anterior\n",
    "lista_preco_litro[0] = 6.98\n",
    "\n",
    "print(lista_preco_litro)"
   ]
  },
  {
   "cell_type": "code",
   "execution_count": 94,
   "id": "b0d00559",
   "metadata": {},
   "outputs": [
    {
     "name": "stdout",
     "output_type": "stream",
     "text": [
      "['Empresa 2', 'Empresa 4', 'Empresa 5']\n"
     ]
    }
   ],
   "source": [
    "#removendo valores\n",
    "#lista_concorrentes_nao_atendem.append(\"Empresa 10\") #Adicionar primeiro, para depois remover\n",
    "lista_concorrentes_nao_atendem.remove(\"Empresa 10\")\n",
    "print(lista_concorrentes_nao_atendem)"
   ]
  },
  {
   "cell_type": "code",
   "execution_count": 98,
   "id": "22f97dfe",
   "metadata": {},
   "outputs": [
    {
     "name": "stdout",
     "output_type": "stream",
     "text": [
      "[3.4, 8.14, 9.97]\n"
     ]
    }
   ],
   "source": [
    "#ordenando valores crescentemente\n",
    "lista_preco_litro_nao_atende.sort()\n",
    "print(lista_preco_litro_nao_atende)"
   ]
  },
  {
   "cell_type": "code",
   "execution_count": 99,
   "id": "b50376ce",
   "metadata": {},
   "outputs": [
    {
     "name": "stdout",
     "output_type": "stream",
     "text": [
      "[9.97, 8.14, 3.4]\n"
     ]
    }
   ],
   "source": [
    "#ordenando valores decrescentemente\n",
    "lista_preco_litro_nao_atende.sort(reverse=True)\n",
    "print(lista_preco_litro_nao_atende)"
   ]
  },
  {
   "cell_type": "code",
   "execution_count": 114,
   "id": "6caffb7a",
   "metadata": {},
   "outputs": [
    {
     "data": {
      "text/plain": [
       "3"
      ]
     },
     "execution_count": 114,
     "metadata": {},
     "output_type": "execute_result"
    }
   ],
   "source": [
    "#tamanho da lista\n",
    "len(lista_concorrentes_nao_atendem)"
   ]
  },
  {
   "cell_type": "code",
   "execution_count": 103,
   "id": "e4413858",
   "metadata": {},
   "outputs": [
    {
     "name": "stdout",
     "output_type": "stream",
     "text": [
      "['Empresa 2', 'Empresa 4', 'Empresa 5', 9.97, 8.14, 3.4, 6, 2, 6]\n"
     ]
    }
   ],
   "source": [
    "#unindo as listas\n",
    "lista_unificada_concorrentes_nao_atendem = lista_concorrentes_nao_atendem+lista_preco_litro_nao_atende+lista_validade_nao_atende\n",
    "print(lista_unificada_concorrentes_nao_atendem)"
   ]
  },
  {
   "cell_type": "markdown",
   "id": "ce021586",
   "metadata": {},
   "source": [
    "# Exercício 5"
   ]
  },
  {
   "cell_type": "markdown",
   "id": "40e183c3",
   "metadata": {},
   "source": [
    "Imagine que você é o/a professor/a de uma turma e que após a aplicação de uma avaliação, obteve as seguintes notas:\n",
    "\n",
    "Nome: João\n",
    "- Nota: 7\n",
    "- Gênero: M\n",
    "\n",
    "Nome: Maria\n",
    "- Nota: 8.5\n",
    "- Gênero: F\n",
    "\n",
    "Nome: Joana\n",
    "- Nota: 7.5\n",
    "- Gênero: F\n",
    "\n",
    "Nome: Manuel\n",
    "- Nota: 6.5\n",
    "- Gênero: M\n",
    "\n",
    "Nome: Manuela\n",
    "- Nota: 6\n",
    "- Gênero: F\n",
    "\n",
    "Nome: Bela\n",
    "- Nota: 9.5\n",
    "- Gênero: F\n",
    "\n",
    "Nome: Enzo\n",
    "- Nota: 5\n",
    "- Gênero: M\n",
    "\n",
    "Porém, você gostaria de otimizar melhor seu trabalho do dia a dia e como tu sabe tudo de Python, resolveu desenvolver um script, onde seja possível:\n",
    "\n",
    "1 - Inserir e informar os dados de cada aluno, registrando-os em listas, separados por gênero e por notas acima ou abaixo da média (sabendo que a média de aprovação é 7), devendo apresentar os resultados da seguinte forma:\n",
    "\n",
    "- Dados do gênero Feminino, acima da média:\n",
    " - Nomes: \n",
    " - Notas: \n",
    "\n",
    "- Dados do gênero Feminino, abaixo da média:\n",
    " - Nomes:\n",
    " - Notas:\n",
    "\n",
    "- Dados do gênero Masculino, acima da média:\n",
    " - Nomes:\n",
    " - Notas: \n",
    "\n",
    "- Dados do gênero Masculino, abaixo da média:\n",
    " - Nomes: \n",
    " - Notas: "
   ]
  },
  {
   "cell_type": "code",
   "execution_count": null,
   "id": "789d6473",
   "metadata": {},
   "outputs": [],
   "source": []
  }
 ],
 "metadata": {
  "kernelspec": {
   "display_name": "Python 3 (ipykernel)",
   "language": "python",
   "name": "python3"
  },
  "language_info": {
   "codemirror_mode": {
    "name": "ipython",
    "version": 3
   },
   "file_extension": ".py",
   "mimetype": "text/x-python",
   "name": "python",
   "nbconvert_exporter": "python",
   "pygments_lexer": "ipython3",
   "version": "3.9.12"
  }
 },
 "nbformat": 4,
 "nbformat_minor": 5
}
