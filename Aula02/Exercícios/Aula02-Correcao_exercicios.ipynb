{
 "cells": [
  {
   "cell_type": "markdown",
   "id": "a9321b20",
   "metadata": {},
   "source": [
    "# CORREÇAO EXERCÍCIO 3 - AULA 1"
   ]
  },
  {
   "cell_type": "markdown",
   "id": "4e7da892",
   "metadata": {},
   "source": [
    "Imagine que você seja o/a comprador/a da sua empresa e, durante a licitação precisar avaliar alguns pontos para que você possa realizar a comprar com o melhor custo-benefício.\n",
    "\n",
    "Neste momento você está gerenciando uma licitação de compra de leite e as regras para identificar o melhor custo-benefício são:\n",
    "\n",
    "1 - Litro de leite inferior a R$ 7,00\n",
    "\n",
    "2 - Prazo de validade superior a 6 meses\n",
    "\n",
    "As propostas comerciais apresentadas pelas 3 empresas concorrentes foram:\n",
    "\n",
    "Empresa 1:\n",
    "\n",
    "-Litro: R$7,50\n",
    "\n",
    "-Validade: 12 meses\n",
    "\n",
    "Empresa 2:\n",
    "\n",
    "-Litro: R$ 6,99\n",
    "\n",
    "-Validade: 7 meses\n",
    "\n",
    "Empresa 3:\n",
    "\n",
    "-Litro: R$ 6,00\n",
    "\n",
    "-Validade 3 meses\n",
    "\n",
    "Desenvolva um algoritmo, onde seja possível avaliar qual a Empresa vencedora, de acordo com as regras e propostas e, exiba uma mensagem na tela, da seguinte forma\n",
    "\n",
    "A Empresa vencedora da licitação é a [Nome da Empresa], com o preço de [preco] e validade de [validade]"
   ]
  },
  {
   "cell_type": "code",
   "execution_count": 37,
   "id": "e56049ee",
   "metadata": {},
   "outputs": [
    {
     "name": "stdout",
     "output_type": "stream",
     "text": [
      "Empresa 1: False True\n",
      "Empresa 2: True True\n",
      "Empresa 3: True False\n"
     ]
    }
   ],
   "source": [
    "#Correção exercício 3\n",
    "#variáveis\n",
    "litro_alvo = 7\n",
    "validade_alvo = 6\n",
    "\n",
    "#Empresa 1\n",
    "litro_empresa1 = 7.50\n",
    "validade_empresa1 = 12\n",
    "\n",
    "Valida_litro_empresa1 = litro_empresa1 < litro_alvo\n",
    "valida_validade_empresa1 = validade_empresa1 > validade_alvo\n",
    "\n",
    "print(\"Empresa 1:\", Valida_litro_empresa1,valida_validade_empresa1)\n",
    "\n",
    "#Empresa 2\n",
    "litro_empresa2 = 6.99\n",
    "validade_empresa2 = 7\n",
    "\n",
    "Valida_litro_empresa2 = litro_empresa2 < litro_alvo\n",
    "valida_validade_empresa2 = validade_empresa2 > validade_alvo\n",
    "\n",
    "\n",
    "print(\"Empresa 2:\", Valida_litro_empresa2,valida_validade_empresa2)\n",
    "\n",
    "#Empresa 3\n",
    "litro_empresa3 = 6\n",
    "validade_empresa3 = 3\n",
    "\n",
    "Valida_litro_empresa3 = litro_empresa3 < litro_alvo\n",
    "valida_validade_empresa3 = validade_empresa3 > validade_alvo\n",
    "\n",
    "print(\"Empresa 3:\", Valida_litro_empresa3,valida_validade_empresa3)"
   ]
  },
  {
   "cell_type": "code",
   "execution_count": 38,
   "id": "c51da911",
   "metadata": {},
   "outputs": [
    {
     "name": "stdout",
     "output_type": "stream",
     "text": [
      "A Empresa vencedora da licitação é a Empresa 2, com o preço de R$ 6.99 e validade de 7 meses\n"
     ]
    }
   ],
   "source": [
    "#Resutado - Exercício 3 - Empresa vencedora\n",
    "print(\"A Empresa vencedora da licitação é a Empresa 2, com o preço de R$\", litro_empresa2, \"e validade de\",validade_empresa2, \"meses\")"
   ]
  },
  {
   "cell_type": "markdown",
   "id": "2b4ff1e3",
   "metadata": {},
   "source": [
    "# Exercício 4"
   ]
  },
  {
   "cell_type": "markdown",
   "id": "8ca4cb54",
   "metadata": {},
   "source": [
    "Você é a pessoa gestora do DP da sua empresa e, além disso, manja dos paranauês do Python, diante disso você teve a grande ideia de criar um programa, onde seja possível calular a taxa de absenteísmo, bem como identificar qual departamento da empresa possui a maior.\n",
    "\n",
    "Sabendo que o cálculo da taxa de absenteísmo é: \n",
    "\n",
    "(Ausências não planejadas/Horas de trabalho planejadas)*100\n",
    "\n",
    "E os dados dos departamentos são:\n",
    "\n",
    "Departamento: Marketing\n",
    "- Ausências não planejadas: 3\n",
    "- Horas de trabalho planejadas: 1600\n",
    "\n",
    "Departamento: Comercial\n",
    "- Ausências não planejadas: 2\n",
    "- Horas de trabalho planejadas: 800\n",
    "\n",
    "Departamento: Operações\n",
    "- Ausências não planejadas: 5\n",
    "- Horas de trabalho planejadas: 3200\n",
    "\n",
    "Exiba uma mensagem informando qual o departamento com a maior taxa de absenteísmo e o seu valor com apenas 2 casas decimais."
   ]
  },
  {
   "cell_type": "code",
   "execution_count": 66,
   "id": "fc42489e",
   "metadata": {},
   "outputs": [
    {
     "name": "stdout",
     "output_type": "stream",
     "text": [
      "Comercial possui a maior taxa de absenteísmo: 0.31\n"
     ]
    }
   ],
   "source": [
    "#Correção exercício 4\n",
    "#variáveis\n",
    "#Marketing\n",
    "ausencias_mkt = 3\n",
    "horas_mkt = 1600\n",
    "tx_absenteismo_mkt = (ausencias_mkt/horas_mkt)*100\n",
    "#print(tx_absenteismo_mkt)\n",
    "\n",
    "#comercial\n",
    "ausencias_com = 2\n",
    "horas_com = 640\n",
    "tx_absenteismo_com = (ausencias_com/horas_com)*100\n",
    "#print(tx_absenteismo_com)\n",
    "\n",
    "#operações\n",
    "ausencias_op = 5\n",
    "horas_op = 3200\n",
    "tx_absenteismo_op = (ausencias_op/horas_op)*100\n",
    "#print(tx_absenteismo_op)\n",
    "\n",
    "if (tx_absenteismo_mkt > tx_absenteismo_com and tx_absenteismo_mkt > tx_absenteismo_op):\n",
    "    print(\"Markting possui a maior taxa de absenteísmo:\",round(tx_absenteismo_mkt,2))\n",
    "elif (tx_absenteismo_com > tx_absenteismo_mkt and tx_absenteismo_com > tx_absenteismo_op):\n",
    "    print(\"Comercial possui a maior taxa de absenteísmo:\",round(tx_absenteismo_com,2))\n",
    "elif (tx_absenteismo_op > tx_absenteismo_com and tx_absenteismo_op > tx_absenteismo_mkt):\n",
    "    print(\"Operações possui a maior taxa de absenteísmo:\",round(tx_absenteismo_cop,2))"
   ]
  },
  {
   "cell_type": "code",
   "execution_count": null,
   "id": "789d6473",
   "metadata": {},
   "outputs": [],
   "source": []
  }
 ],
 "metadata": {
  "kernelspec": {
   "display_name": "Python 3 (ipykernel)",
   "language": "python",
   "name": "python3"
  },
  "language_info": {
   "codemirror_mode": {
    "name": "ipython",
    "version": 3
   },
   "file_extension": ".py",
   "mimetype": "text/x-python",
   "name": "python",
   "nbconvert_exporter": "python",
   "pygments_lexer": "ipython3",
   "version": "3.9.12"
  }
 },
 "nbformat": 4,
 "nbformat_minor": 5
}
