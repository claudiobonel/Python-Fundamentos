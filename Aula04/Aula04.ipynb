{
 "cells": [
  {
   "cell_type": "markdown",
   "id": "a0a990ff",
   "metadata": {},
   "source": [
    "# EXERCÍCIO 7"
   ]
  },
  {
   "cell_type": "markdown",
   "id": "3558e492",
   "metadata": {},
   "source": [
    "Um colecionador de discos de vinil, com mais de 5000 títulos, te pediu para você criar um programa, onde seja possível cadastrar o nome do/a artista, nome do disco e o ano de lançamento, de modo dinâmico, sempre perguntando se deseja cadastrar (ou não) um novo artista.\n",
    "\n",
    "Ao final desse cadastro, ele gostaria de colocar para leilão beneficente todos os discos, da seguinte forma:\n",
    "- Se o ano for maior ou igual que 1960 e menor 1970, o valor será calculado da seguinte forma:\n",
    "    - (ano atual - ano de lançamento do disco)*150\n",
    "- Se o ano for maior ou igual a 1970 e menor que 1980,  o valor será calculado da seguinte forma:\n",
    "    - (ano atual - ano de lançamento do disco)*100\n",
    "- Demais anos não será vendidos.\n",
    "\n",
    "O programa de cadastro não deve enviar para leilão no momento da inserção, visto que o leilão beneficente só acontecerá uma vez e os discos continuarão sendo inseridos mesmo após o leilão! Portanto, a verificação dos discos que irão para leilão deve ser realizada uma única vez!\n",
    "\n",
    "Suponha que os discos que serão cadastrados são:\n",
    "\n",
    "Artista: Chuck Berry\n",
    "- Disco: Chuck Berry Is on Top\n",
    "- Ano:  1960\n",
    "\n",
    "Artista: Sex Pistols \n",
    "- Disco: God Save The Queen\n",
    "- Ano: 1977\n",
    "\n",
    "Artista: Ferris Wheel\n",
    "- Disco: Supernatural Girl \n",
    "- Ano: 1974\n",
    "\n",
    "Artista: Pink Floyd\n",
    "- Disco: Ummagumma\n",
    "- Ano: 1969\n",
    "\n",
    "Artista: Gorilla Biscuits\n",
    "- Disco: Gorilla Biscuits\n",
    "- Ano: 1987\n",
    "\n",
    "Artista: Tim Maia\n",
    "- Disco: Racional\n",
    "- Ano: 1975\n",
    "\n",
    "Artista: Raul Seixas\n",
    "- Disco: Let Me Sing My Rock’n’Roll\n",
    "- Ano: 1985\n",
    "\n",
    "Artista: Dire Straits\n",
    "- Disco: Brothers in arms\n",
    "- Ano: 1985\n",
    "\n",
    "Artista: The Clash\n",
    "- Disco: London Calling\n",
    "- Ano: 1979\n",
    "\n",
    "Com relação ao leilão, ele pediu para que você registre o resultado separando os dados dos discos de 1960 a 1970, dos de 1970 a 1980. Por fim, o aplicativo deve possibilitar a impressão (ou não) dos registros. Caso o usuário opte por exibir os registros, possiblitar que o mesmo escolha o período de sua preferência, exibindo o artista, o nome do disco, o ano e o valor que o disco irá para o leilão."
   ]
  },
  {
   "cell_type": "code",
   "execution_count": 1,
   "id": "30b2e404",
   "metadata": {},
   "outputs": [],
   "source": [
    "#criando listas para gravação dos dados\n",
    "lista_artista = []\n",
    "lista_nome_disco = []\n",
    "lista_ano = []"
   ]
  },
  {
   "cell_type": "code",
   "execution_count": 4,
   "id": "65c6b61c",
   "metadata": {},
   "outputs": [
    {
     "name": "stdout",
     "output_type": "stream",
     "text": [
      "Artista:Pink Floyd\n",
      "Nome do disco:Ummagumma\n",
      "Ano de lançamento:1969\n",
      "Deseja inserir um novo artista? (S para sim e N para não)s\n",
      "Artista:Gorilla Biscuits\n",
      "Nome do disco:Gorilla Biscuits\n",
      "Ano de lançamento:1987\n",
      "Deseja inserir um novo artista? (S para sim e N para não)s\n",
      "Artista:Tim Maia\n",
      "Nome do disco:Racional\n",
      "Ano de lançamento:1975\n",
      "Deseja inserir um novo artista? (S para sim e N para não)s\n",
      "Artista:Raul Seixas\n",
      "Nome do disco:Let Me Sing My Rock’n’Roll\n",
      "Ano de lançamento:1985\n",
      "Deseja inserir um novo artista? (S para sim e N para não)s\n",
      "Artista:Dire Straits\n",
      "Nome do disco:Brothers in arms\n",
      "Ano de lançamento:1985\n",
      "Deseja inserir um novo artista? (S para sim e N para não)s\n",
      "Artista:The Clash\n",
      "Nome do disco:London Calling\n",
      "Ano de lançamento:1979\n",
      "Deseja inserir um novo artista? (S para sim e N para não)n\n",
      "Deseja imprimir os registros? (S para sim. N para não.)s\n",
      "Artista: ['Chuck Berry', 'Sex Pistols', 'Ferris Whell', 'Pink Floyd', 'Gorilla Biscuits', 'Tim Maia', 'Raul Seixas', 'Dire Straits', 'The Clash']\n",
      "Nome do disco: ['Chuck Berry Is on Top', 'God Save The Queen', 'Supernatural Girl', 'Ummagumma', 'Gorilla Biscuits', 'Racional', 'Let Me Sing My Rock’n’Roll', 'Brothers in arms', 'London Calling']\n",
      "Ano de lançamento: [1960, 1977, 1974, 1969, 1987, 1975, 1985, 1985, 1979]\n"
     ]
    }
   ],
   "source": [
    "#Solicitando a inserção do dados e realizando o registro nas listas\n",
    "resposta = 'S'\n",
    "while resposta.upper() == 'S':\n",
    "    artista = input(\"Artista:\")\n",
    "    lista_artista.append(artista)\n",
    "    nome_disco = input(\"Nome do disco:\")\n",
    "    lista_nome_disco.append(nome_disco)\n",
    "    ano = int(input(\"Ano de lançamento:\"))\n",
    "    lista_ano.append(ano)\n",
    "    resposta = input(\"Deseja inserir um novo artista? (S para sim e N para não)\")\n",
    "else:\n",
    "    impressao_cadastro = input(\"Deseja imprimir os registros? (S para sim. N para não.)\")\n",
    "    if (impressao_cadastro.upper() == \"S\"):\n",
    "        print(\"Artista:\", lista_artista)\n",
    "        print(\"Nome do disco:\", lista_nome_disco)\n",
    "        print(\"Ano de lançamento:\", lista_ano)\n",
    "    else:\n",
    "        print(\"Cadastro finalizado.\")\n"
   ]
  },
  {
   "cell_type": "code",
   "execution_count": 7,
   "id": "18928019",
   "metadata": {},
   "outputs": [
    {
     "name": "stdout",
     "output_type": "stream",
     "text": [
      "Deseja exibir os discos? (S para sim. N para não)n\n",
      "\n",
      "Aplicação finalizada. Obrigado!\n"
     ]
    }
   ],
   "source": [
    "#Criando listas\n",
    "lista_1960_1970_artista = []\n",
    "lista_1960_1970_ano = []\n",
    "lista_1960_1970_disco = []\n",
    "lista_1960_1970_valor = []\n",
    "\n",
    "lista_1970_1980_artista = []\n",
    "lista_1970_1980_ano = []\n",
    "lista_1970_1980_disco = []\n",
    "lista_1970_1980_valor = []\n",
    "\n",
    "#Envio para leilão, verificando o ano\n",
    "for i in range(len(lista_ano)):\n",
    "    if (lista_ano[i] >= 1960 and lista_ano[i] < 1970):\n",
    "        #calcular valor do leilão\n",
    "        valor_1960_1970 = (2022 - lista_ano[i])*150\n",
    "        lista_1960_1970_artista.append(lista_artista[i])\n",
    "        lista_1960_1970_disco.append(lista_nome_disco[i])\n",
    "        lista_1960_1970_ano.append(lista_ano[i])\n",
    "        lista_1960_1970_valor.append(valor_1960_1970)\n",
    "    elif (lista_ano[i] >= 1970 and lista_ano[i] < 1980):\n",
    "        #calcular valor do leilão\n",
    "        valor_1970_1980 = (2022 - lista_ano[i])*100\n",
    "        lista_1970_1980_artista.append(lista_artista[i])\n",
    "        lista_1970_1980_disco.append(lista_nome_disco[i])\n",
    "        lista_1970_1980_ano.append(lista_ano[i])\n",
    "        lista_1970_1980_valor.append(valor_1970_1980)\n",
    "else:\n",
    "    impressao_discos = input(\"Deseja exibir os discos? (S para sim. N para não)\")\n",
    "    if (impressao_discos.upper() == \"S\"):\n",
    "        periodo_discos = int(input(\"Qual período? (1 para 1960 a 1970. 2 para 1970 a 1980.)\"))\n",
    "        iDiscos = 0\n",
    "        print(\"\")\n",
    "        if (periodo_discos == 1):\n",
    "            print(\"Discos de 1960 a 1970.\")\n",
    "            print(\"**********************\")\n",
    "            while iDiscos < len(lista_1960_1970_artista):\n",
    "                print(\"Artista:\", lista_1960_1970_artista[iDiscos])\n",
    "                print(\"Disco:\", lista_1960_1970_disco[iDiscos])\n",
    "                print(\"Ano:\", lista_1960_1970_ano[iDiscos])\n",
    "                print(\"Valor Leilão (R$):\", lista_1960_1970_valor[iDiscos])\n",
    "                print(\"\")\n",
    "                iDiscos += 1\n",
    "        else:\n",
    "            print(\"Discos de 1970 a 1980.\")\n",
    "            print(\"**********************\")\n",
    "            while iDiscos < len(lista_1970_1980_artista):\n",
    "                print(\"Artista:\", lista_1970_1980_artista[iDiscos])\n",
    "                print(\"Disco:\", lista_1970_1980_disco[iDiscos])\n",
    "                print(\"Ano:\", lista_1970_1980_ano[iDiscos])\n",
    "                print(\"Valor Leilão (R$):\", lista_1970_1980_valor[iDiscos])\n",
    "                print(\"\")\n",
    "                iDiscos += 1\n",
    "    else:\n",
    "        print(\"\")\n",
    "        print(\"Aplicação finalizada. Obrigado!\")\n",
    "                \n",
    "\n",
    "        "
   ]
  },
  {
   "cell_type": "markdown",
   "id": "c61427f5",
   "metadata": {},
   "source": [
    "# TUPLA"
   ]
  },
  {
   "cell_type": "markdown",
   "id": "e9b7ebaf",
   "metadata": {},
   "source": [
    "As tuplas são variáveis utilizadas quando há a necessidade de criar junções entre dados (que fazem sentido) e além disso, podem (e vão) correlacionar listas de dados, ou seja, podemos unir todas as tuplas, correlacionando seus dados, através dos índices e apresentá-los em uma lista de tuplas!\n",
    "\n",
    "As listas são representadas por \"[ ]\", já as tuplas são \"( )\"\n",
    "Por exemplo:\n",
    "\n",
    "Imagine que temos as seguintes listas:\n",
    "\n",
    "lista_nomes = [\"Bonel\",\"Claudio\",\"Silva\"]\n",
    "lista_altura = [1.90,1.72,1.83]\n",
    "\n",
    "Apresente os dados relativos ao nome, ordenando-os da maior para a menor altura."
   ]
  },
  {
   "cell_type": "code",
   "execution_count": 3,
   "id": "e234a32e",
   "metadata": {},
   "outputs": [
    {
     "name": "stdout",
     "output_type": "stream",
     "text": [
      "['Bonel', 'Claudio', 'Silva', 'Bonelzinho']\n",
      "[1.9, 1.72, 1.83, 1.73]\n",
      "[('Bonel', 1.9), ('Claudio', 1.72), ('Silva', 1.83), ('Bonelzinho', 1.73)]\n"
     ]
    }
   ],
   "source": [
    "#criando as listas\n",
    "lista_nomes = [\"Bonel\",\"Claudio\",\"Silva\",\"Bonelzinho\"]\n",
    "lista_altura = [1.90,1.72,1.83,1.73]\n",
    "\n",
    "#Com as listas somente é possível orderna-las individualmente\n",
    "#E desta forma não conseguimos identificar de forma automatizada a maior e a menor.\n",
    "#lista_nomes.sort()\n",
    "#lista_altura.sort(reverse=True)\n",
    "\n",
    "#As tuplas atuam na integração dos dados entre as listas (Comentar as ordenações anteriores)\n",
    "#Criar as tuplas de cada dados e após criar a lista unificando as tuplas\n",
    "lista_tupla_alturas = []\n",
    "\n",
    "for i in range(len(lista_nomes)):\n",
    "    dados_tupla = (lista_nomes[i],lista_altura[i])\n",
    "    lista_tupla_alturas.append(dados_tupla)\n",
    "\n",
    "print(lista_nomes)\n",
    "print(lista_altura)\n",
    "print(lista_tupla_alturas)\n",
    "\n"
   ]
  },
  {
   "cell_type": "markdown",
   "id": "ff688504",
   "metadata": {},
   "source": [
    "Para ordenar a tupla, através de um dado específico da listas contidas na mesma, precisaremos utilizar o argumento \"key\", do método \"sort\". Esse argumento tem por objetivo informar ao método \"sort\" como que os elementos (dados) da lista serão comparados.\n",
    "\n",
    "No nosso caso, queremos ordernar pela altura que dentro da lista ela se encontra no índice 1. certo? Certo!\n",
    "\n",
    "Porém, o argumento \"key\" não aceita um dado do tipo inteiro (nem decimal). Veja"
   ]
  },
  {
   "cell_type": "code",
   "execution_count": 9,
   "id": "15802104",
   "metadata": {},
   "outputs": [
    {
     "ename": "TypeError",
     "evalue": "'int' object is not callable",
     "output_type": "error",
     "traceback": [
      "\u001b[1;31m---------------------------------------------------------------------------\u001b[0m",
      "\u001b[1;31mTypeError\u001b[0m                                 Traceback (most recent call last)",
      "Input \u001b[1;32mIn [9]\u001b[0m, in \u001b[0;36m<cell line: 2>\u001b[1;34m()\u001b[0m\n\u001b[0;32m      1\u001b[0m \u001b[38;5;66;03m#Ordenando a lista pela menor altura\u001b[39;00m\n\u001b[1;32m----> 2\u001b[0m \u001b[43mlista_tupla_alturas\u001b[49m\u001b[38;5;241;43m.\u001b[39;49m\u001b[43msort\u001b[49m\u001b[43m(\u001b[49m\u001b[43mkey\u001b[49m\u001b[38;5;241;43m=\u001b[39;49m\u001b[38;5;241;43m1\u001b[39;49m\u001b[43m,\u001b[49m\u001b[43m \u001b[49m\u001b[43mreverse\u001b[49m\u001b[38;5;241;43m=\u001b[39;49m\u001b[38;5;28;43;01mTrue\u001b[39;49;00m\u001b[43m)\u001b[49m\n\u001b[0;32m      3\u001b[0m \u001b[38;5;28mprint\u001b[39m(\u001b[38;5;124m\"\u001b[39m\u001b[38;5;124mNomes ordenados por altura:\u001b[39m\u001b[38;5;124m\"\u001b[39m, lista_tupla_alturas)\n\u001b[0;32m      4\u001b[0m \u001b[38;5;28mprint\u001b[39m(\u001b[38;5;124m\"\u001b[39m\u001b[38;5;124mMaior altura:\u001b[39m\u001b[38;5;124m\"\u001b[39m, lista_tupla_alturas[\u001b[38;5;241m0\u001b[39m])\n",
      "\u001b[1;31mTypeError\u001b[0m: 'int' object is not callable"
     ]
    }
   ],
   "source": [
    "#Ordenando a lista pela menor altura\n",
    "lista_tupla_alturas.sort(key=1, reverse=True)\n",
    "print(\"Nomes ordenados por altura:\", lista_tupla_alturas)\n",
    "print(\"Maior altura:\", lista_tupla_alturas[0])\n",
    "\n",
    "#verificar o tamanho da tupla, para encontrar o último índice\n",
    "#ultimo_ind = len(lista_altura) -1\n",
    "#print(\"Menor altura:\", lista_tupla_alturas[ultimo_ind])"
   ]
  },
  {
   "cell_type": "markdown",
   "id": "a4165e9e",
   "metadata": {},
   "source": [
    "Para casos como esse, onde é necessário informar um número inteiro, devemos utilizar uma função, pois o argumento \"key\" permite somente funções.\n",
    "\n",
    "Em python, existe uma função genérica, que é chamada de \"Função anônima\", onde pode ser utilziada para casos como esse. Essa função chama-se \"lambda\". Veja a seguir:"
   ]
  },
  {
   "cell_type": "code",
   "execution_count": 4,
   "id": "dbc78264",
   "metadata": {},
   "outputs": [
    {
     "name": "stdout",
     "output_type": "stream",
     "text": [
      "Nomes ordenados por altura: [('Bonel', 1.9), ('Silva', 1.83), ('Bonelzinho', 1.73), ('Claudio', 1.72)]\n",
      "Maior altura: ('Bonel', 1.9)\n",
      "Menor altura: ('Claudio', 1.72)\n"
     ]
    }
   ],
   "source": [
    "#Ordenando a lista pela menor altura\n",
    "lista_tupla_alturas.sort(key=lambda x: x[1], reverse=True)\n",
    "print(\"Nomes ordenados por altura:\", lista_tupla_alturas)\n",
    "print(\"Maior altura:\", lista_tupla_alturas[0])\n",
    "\n",
    "#verificar o tamanho da tupla, para encontrar o último índice\n",
    "ultimo_ind = len(lista_tupla_alturas) -1\n",
    "print(\"Menor altura:\", lista_tupla_alturas[ultimo_ind])"
   ]
  },
  {
   "cell_type": "markdown",
   "id": "44986833",
   "metadata": {},
   "source": [
    "# Exercício 8"
   ]
  },
  {
   "cell_type": "markdown",
   "id": "348eaf28",
   "metadata": {},
   "source": [
    "Após ter separado os discos para o leilão beneficente, o colecionador pediu para você ajustar o aplicativo de modo a possilitar que o usuário escolha o período (1960 a 1970 ou 1970 a 1980) a ser ranquear os artistas pelo valor (do maior para o menor), bem como se será impresso na tela (ou não)."
   ]
  },
  {
   "cell_type": "code",
   "execution_count": 11,
   "id": "aca1e1d3",
   "metadata": {},
   "outputs": [
    {
     "name": "stdout",
     "output_type": "stream",
     "text": [
      "Para qual período deseja verificar o ranqueamento? (1 para 1960 a 1970. 2 para 1970 a 1980.)2\n",
      "Deseja imprimir o rank dos discos de 1970 a 1980? (S para sim. N para não.)s\n",
      "Rank dos discos de 1970 a 1980:\n",
      "*******************************\n",
      "1 º: ('Ferris Whell', 'Supernatural Girl', 1974, 4800)\n",
      "2 º: ('Tim Maia', 'Racional', 1975, 4700)\n",
      "3 º: ('Sex Pistols', 'God Save The Queen', 1977, 4500)\n",
      "4 º: ('The Clash', 'London Calling', 1979, 4300)\n"
     ]
    }
   ],
   "source": [
    "#Resposta Exercício 8\n",
    "\n",
    "rank_discos = int(input(\"Para qual período deseja verificar o ranqueamento? (1 para 1960 a 1970. 2 para 1970 a 1980.)\"))\n",
    "lista_tupla_discos = []\n",
    "iRankDiscos = 0\n",
    "\n",
    "if (rank_discos == 1):\n",
    "    for i in range(len(lista_1960_1970_artista)):\n",
    "        dados = (lista_1960_1970_artista[i],lista_1960_1970_disco[i],lista_1960_1970_ano[i],lista_1960_1970_valor[i])\n",
    "        lista_tupla_discos.append(dados)\n",
    "    else:\n",
    "        impressao_rank = input(\"Deseja imprimir o rank dos discos de 1960 a 1970? (S para sim. N para não.)\")\n",
    "        #Ordenando tupla por índice específico\n",
    "        lista_tupla_discos.sort(key=lambda x: x[3], reverse=True)\n",
    "        if (impressao_rank.upper() == \"S\"):\n",
    "            print(\"Rank dos discos de 1960 a 1970:\")\n",
    "            print(\"*******************************\")\n",
    "            while iRankDiscos < len(lista_tupla_discos):\n",
    "                print((iRankDiscos + 1),\"º:\", lista_tupla_discos[iRankDiscos])\n",
    "                iRankDiscos += 1\n",
    "        else:\n",
    "            print(\"Aplicativo finalizado. Obrigado!\")\n",
    "else:\n",
    "    for i in range(len(lista_1970_1980_artista)):\n",
    "        dados = (lista_1970_1980_artista[i],lista_1970_1980_disco[i],lista_1970_1980_ano[i],lista_1970_1980_valor[i])\n",
    "        lista_tupla_discos.append(dados)\n",
    "    else:\n",
    "        impressao_rank = input(\"Deseja imprimir o rank dos discos de 1970 a 1980? (S para sim. N para não.)\")\n",
    "        #Ordenando tupla por índice específico\n",
    "        lista_tupla_discos.sort(key=lambda x: x[3], reverse=True)\n",
    "        if (impressao_rank.upper() == \"S\"):\n",
    "            print(\"Rank dos discos de 1970 a 1980:\")\n",
    "            print(\"*******************************\")\n",
    "            while iRankDiscos < len(lista_tupla_discos):\n",
    "                print((iRankDiscos + 1),\"º:\", lista_tupla_discos[iRankDiscos])\n",
    "                iRankDiscos += 1\n",
    "        else:\n",
    "            print(\"Aplicativo finalizado. Obrigado!\")"
   ]
  },
  {
   "cell_type": "markdown",
   "id": "769dfe68",
   "metadata": {},
   "source": [
    "# Exportando dados para o Excel"
   ]
  },
  {
   "cell_type": "code",
   "execution_count": 19,
   "id": "881ead09",
   "metadata": {},
   "outputs": [],
   "source": [
    "#TESTE DE EXPORTAÇÃO\n",
    "#TESTE DE EXPORTAÇÃO\n",
    "#TESTE DE EXPORTAÇÃO\n",
    "#TESTE DE EXPORTAÇÃO\n",
    "#TESTE DE EXPORTAÇÃO\n",
    "#Criando listas\n",
    "lista_nomes = [\"Bonel\",\"Claudio\",\"Silva\",\"Bonelzinho\"]\n",
    "lista_altura = [1.90,1.72,1.83,1.73]\n",
    "\n",
    "lista_tupla_alturas = []\n",
    "dados_tupla = ()\n",
    "for i in range(len(lista_nomes)):\n",
    "    dados_tupla = (lista_nomes[i],lista_altura[i])\n",
    "    lista_tupla_alturas.append(dados_tupla)\n",
    "\n",
    "print(lista_tupla_alturas)"
   ]
  },
  {
   "cell_type": "markdown",
   "id": "25ac4a8f",
   "metadata": {},
   "source": [
    "Criando um arquivo Excel, pela primeira vez. Boas práticas"
   ]
  },
  {
   "cell_type": "code",
   "execution_count": null,
   "id": "b8d3006c",
   "metadata": {},
   "outputs": [],
   "source": [
    "#Criando um arquivo Excel\n",
    "\n",
    "#Biblioteca para manipulação no sistema de arquivos do windows\n",
    "from pathlib import Path\n",
    "\n",
    "#Biblioteca para manipulação de dados\n",
    "import pandas as pd\n",
    "\n",
    "#Variável com o local de criação da arquivo\n",
    "#Separa-se com 2 barras \"\\\\\", por padrão do python\n",
    "#Método Path é utilizando para localizar endereços no sistema de arquivos\n",
    "#EM CASA, DEVE ALTERAR ESSE ENDEREÇO PARA O DO SEU COMPUTADOR\n",
    "endereco = Path(\"C:\\\\Users\\\\claud\\\\OneDrive\\\\Claudio Bonel-DADOTECA\\\\Senac\\\\Python - FATEC\\\\Dados\\\\\")\n",
    "\n",
    "#variável com o nome do arquivo, concatenado ao endereço\n",
    "excel = endereco / \"alturas.xlsx\"\n",
    "\n",
    "if (endereco.exists()):\n",
    "    #Se o endereço existir segue com o processo de criação ou append de dados no excel\n",
    "    if not (excel.exists()): #Verifica se o arquivo excel NÃO existe, para cria-lo pela primeira vez\n",
    "        #Cria um dataframe com a tupla\n",
    "        df_altura = pd.DataFrame(lista_tupla_alturas)\n",
    "        \n",
    "        #Renomeia as colunas\n",
    "        df_altura = df_altura.rename(columns = {0:\"Nome\",1:\"Altura\"})\n",
    "        \n",
    "        #Envia para o excel\n",
    "        df_altura.to_excel(excel, sheet_name=\"alturas\",index=False)\n",
    "    else: #Se o arquivo já existe \n",
    "        print(\"Arquivo já existe\")\n",
    "else:\n",
    "    #Se o endereço não existir, envia uma mensagem de erro!\n",
    "    print('Endereço não existe! Favor verificar!')"
   ]
  },
  {
   "cell_type": "markdown",
   "id": "f179fd5a",
   "metadata": {},
   "source": [
    "# EXERCÍCIO 9"
   ]
  },
  {
   "cell_type": "code",
   "execution_count": null,
   "id": "ba92409a",
   "metadata": {},
   "outputs": [],
   "source": [
    "#BIBLIOTECAS JÁ IMPORTADAS\n",
    "\n",
    "lista_nomes = [\"Ane\",\"Léo\",\"Ana\",\"Claudio\"]\n",
    "lista_idade = [39,25,18,23]\n",
    "lista_estilo = [\"Funk\",\"Brega Funk\",\"Indie\",\"Hardcore\"]\n",
    "lista_horas = [3, 6, 1, 6]\n",
    "\n",
    "lista_tupla_musicas = []\n",
    "\n",
    "for i in range(len(lista_nomes)):\n",
    "    dados_musicas = (lista_nomes[i],lista_idade[i],lista_estilo[i],lista_horas[i])\n",
    "    lista_tupla_musicas.append(dados_musicas)\n",
    "    \n",
    "#variável para localizar o endereço onde o arquivo será criado e manipulado\n",
    "#EM CASA, DEVE ALTERAR ESSE ENDEREÇO\n",
    "endereco_musicas  = Path(\"C:\\\\Users\\\\36127772022.1\\\\SENAC\\\\dados\\\\\")\n",
    "\n",
    "#variável com o nome do arquivo\n",
    "excel_musicas = endereco_musicas / \"musicas.xlsx\"\n",
    "\n",
    "if (endereco_musicas.exists()):\n",
    "    if not (excel_musicas.exists()):\n",
    "        df_estilo_musicas = pd.DataFrame(lista_tupla_musicas)\n",
    "        \n",
    "        df_estilo_musicas = df_estilo_musicas.rename(columns = {0:\"Nome\",1:\"Idade\",2:\"Estilo Musical\",3:\"Horas\"})\n",
    "        \n",
    "        df_estilo_musicas.to_excel(excel_musicas, sheet_name = \"estilo_musical\", index=False)\n",
    "\n",
    "        print(\"Arquivo exportado com sucesso!\")\n",
    "    else:\n",
    "        print(\"Arquivo já existe\")\n",
    "else:\n",
    "    print(\"Endereço não existe\")"
   ]
  }
 ],
 "metadata": {
  "kernelspec": {
   "display_name": "Python 3 (ipykernel)",
   "language": "python",
   "name": "python3"
  },
  "language_info": {
   "codemirror_mode": {
    "name": "ipython",
    "version": 3
   },
   "file_extension": ".py",
   "mimetype": "text/x-python",
   "name": "python",
   "nbconvert_exporter": "python",
   "pygments_lexer": "ipython3",
   "version": "3.9.12"
  }
 },
 "nbformat": 4,
 "nbformat_minor": 5
}
