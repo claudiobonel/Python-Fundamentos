{
 "cells": [
  {
   "cell_type": "markdown",
   "id": "769dfe68",
   "metadata": {},
   "source": [
    "# Exportando dados para o Excel"
   ]
  },
  {
   "cell_type": "code",
   "execution_count": 54,
   "id": "881ead09",
   "metadata": {},
   "outputs": [
    {
     "name": "stdout",
     "output_type": "stream",
     "text": [
      "[('maria', 1.9), ('Jorge', 1.7), ('Joana', 1.8), ('Claudio', 1.8), ('Joseane', 1.6), ('Lira', 1.56), ('Manuel', 1.96), ('Samuca', 1.84)]\n"
     ]
    }
   ],
   "source": [
    "#TESTE DE EXPORTAÇÃO\n",
    "#TESTE DE EXPORTAÇÃO\n",
    "#TESTE DE EXPORTAÇÃO\n",
    "#TESTE DE EXPORTAÇÃO\n",
    "#TESTE DE EXPORTAÇÃO\n",
    "#Criando listas\n",
    "lista_nomes = [\"maria\",\"Jorge\",\"Joana\",\"Claudio\",\"Joseane\",\"Lira\",\"Manuel\",\"Samuca\"]\n",
    "lista_altura = [1.90,1.70,1.80,1.80,1.60,1.56,1.96,1.84]\n",
    "\n",
    "lista_tupla_alturas = []\n",
    "dados_tupla = ()\n",
    "for i in range(len(lista_nomes)):\n",
    "    dados_tupla = (lista_nomes[i],lista_altura[i])\n",
    "    lista_tupla_alturas.append(dados_tupla)\n",
    "\n",
    "print(lista_tupla_alturas)\n",
    "\n",
    "import pandas as pd"
   ]
  },
  {
   "cell_type": "markdown",
   "id": "c23d61cc",
   "metadata": {},
   "source": [
    "Inserindo novos dados, em um arquivo já existente, utilizando função definida pelo dev"
   ]
  },
  {
   "cell_type": "code",
   "execution_count": 55,
   "id": "16b02540",
   "metadata": {},
   "outputs": [
    {
     "name": "stdout",
     "output_type": "stream",
     "text": [
      "Arquivo exportado com sucesso!\n"
     ]
    }
   ],
   "source": [
    "#Biblioteca para manipulação no sistema de arquivos do windows\n",
    "from pathlib import Path\n",
    "\n",
    "#Biblioteca para manipulação de dados\n",
    "import pandas as pd\n",
    "\n",
    "#Variável com o local de criação da arquivo\n",
    "#Separa-se com 2 barras \"\\\\\", por padrão do python\n",
    "#Método Path é utilizando para localizar endereços no sistema de arquivos\n",
    "endereco = Path(\"C:\\\\Users\\\\claud\\\\OneDrive\\\\Claudio Bonel-DADOTECA\\\\Senac\\\\Python - FATEC\\\\Dados\\\\\")\n",
    "\n",
    "#variável com o nome do arquivo, concatenado ao endereço\n",
    "excel = endereco / \"alturas.xlsx\"\n",
    "\n",
    "if (endereco.exists()):\n",
    "    #Se o endereço existir segue com o processo de criação ou append de dados no excel\n",
    "    if not (excel.exists()): #Verifica se o arquivo excel NÃO existe, para cria-lo pela primeira vez\n",
    "        #Cria um dataframe com a tupla\n",
    "        df_altura = pd.DataFrame(lista_tupla_alturas)\n",
    "        \n",
    "        #Renomeia as colunas\n",
    "        df_altura = df_altura.rename(columns = {0:\"Nome\",1:\"Altura\"})\n",
    "        \n",
    "        #Envia para o excel\n",
    "        df_altura.to_excel(excel, sheet_name=\"alturas\",index=False)\n",
    "    else: #Se o arquivo já existe \n",
    "        #cria um dicionário com o nome das colunas\n",
    "        colunas = {0:\"Nome\",1:\"Altura\"}\n",
    "        #aciona a função de append no Excel, enviando o valor da lista\n",
    "        adiciona_dados_excel (excel,\"alturas\",lista_tupla_alturas, colunas)\n",
    "else:\n",
    "    #Se o endereço não existir, envia uma mensagem de erro!\n",
    "    print('Endereço não existe! Favor verificar!')\n",
    "    \n",
    "print(\"Arquivo exportado com sucesso!\")"
   ]
  },
  {
   "cell_type": "markdown",
   "id": "5881bbc0",
   "metadata": {},
   "source": [
    "Padrão e sintaxe de uma função definida pelo desenvolvedor"
   ]
  },
  {
   "cell_type": "code",
   "execution_count": 2,
   "id": "171bf108",
   "metadata": {},
   "outputs": [
    {
     "name": "stdout",
     "output_type": "stream",
     "text": [
      "Atingimento de meta: 80.0\n"
     ]
    }
   ],
   "source": [
    "#Padrão para definição de função\n",
    "def calcula_atingimento_meta(numerador,denominador):\n",
    "    atingimento_meta = (numerador/denominador)*100\n",
    "    print(\"Atingimento de meta:\", atingimento_meta)\n",
    "\n",
    "calcula_atingimento_meta(80,100)\n"
   ]
  },
  {
   "cell_type": "markdown",
   "id": "530e33b9",
   "metadata": {},
   "source": [
    "Função definida pelo/a desenvolvedor/a para realizar a inclusão de novos dados em um arquivo já criado"
   ]
  },
  {
   "cell_type": "code",
   "execution_count": 9,
   "id": "70d26b8e",
   "metadata": {},
   "outputs": [],
   "source": [
    "def adiciona_dados_excel(arquivo_excel, nome_planilha, dados_novos, colunas):\n",
    "    #Verifica dados já carregados\n",
    "    df_origem = pd.DataFrame(pd.read_excel(arquivo_excel, sheet_name=nome_planilha), index=None)\n",
    "    \n",
    "    #transforma os dados existentes da arquivo em tuplas\n",
    "    tupla_origem = [tuple(x) for x in df_origem.values]\n",
    "\n",
    "    #verifica se os dados novos já existem no arquivo. Se existir não exporta, se Não existir exporta para o excel.\n",
    "    #Inicia o loop\n",
    "    i = 0 \n",
    "    dados_carga = []\n",
    "\n",
    "    while i < len(dados_novos): #Realiza o loop de acordo com o tamanho de dados novos\n",
    "        if (dados_novos[i] not in tupla_origem): #verifica se cada dado novo NÃO se encontra na tupla com os dados já exportados\n",
    "            dados_carga.append(dados_novos[i]) #Se não for repetido, é dado novo. Adiciona na tupla de dados para carga\n",
    "            i = i + 1\n",
    "        else:\n",
    "            i = i + 1\n",
    "            \n",
    "    #cria o dataframe com os dados para carga\n",
    "    df_dados_carga = pd.DataFrame(dados_carga)\n",
    "  \n",
    "\n",
    "    #Renomeia colunas dos dataframes (novos dados e dados ajustados, para terem o mesmo nome)\n",
    "    df_dados_carga = df_dados_carga.rename(columns = colunas)\n",
    "    \n",
    "\n",
    "    #Exporta para o Excel\n",
    "    #df_dados_carga.to_excel(arquivo_excel, sheet_name=nome_planilha,index=False)\n",
    "    #TESTAR COM O MESMO NOME E ALTURA DIFERENTE, PARA ILUSTRAR QUE ADICIONA NORMALMENTE.\n",
    "    #argumento Mode. a = append. w = write. \n",
    "    #engine=\"openpyxl\". É necessário sempre que for um append\n",
    "    with pd.ExcelWriter(arquivo_excel,mode=\"a\", engine=\"openpyxl\", if_sheet_exists=\"overlay\") as atualizar:\n",
    "        df_dados_carga.to_excel(atualizar, sheet_name=nome_planilha,header=None, startrow=atualizar.sheets[nome_planilha].max_row,index=False)\n",
    "    "
   ]
  },
  {
   "cell_type": "markdown",
   "id": "d952003a",
   "metadata": {},
   "source": [
    "# TRATAMENTO DE EXCEÇÕES"
   ]
  },
  {
   "cell_type": "code",
   "execution_count": 39,
   "id": "d3138cb0",
   "metadata": {},
   "outputs": [
    {
     "name": "stdout",
     "output_type": "stream",
     "text": [
      "Número inteiro: 10.4\n",
      "Insira um número\n"
     ]
    }
   ],
   "source": [
    "#validação de dados\n",
    "try:\n",
    "    numero = int(input(\"Número inteiro: \"))\n",
    "except ValueError:\n",
    "    print(\"Insira um número\")\n",
    "else:\n",
    "    print(numero)"
   ]
  },
  {
   "cell_type": "code",
   "execution_count": 40,
   "id": "c1948df7",
   "metadata": {},
   "outputs": [
    {
     "name": "stdout",
     "output_type": "stream",
     "text": [
      "Número inteiro: r\n",
      "Insira um número\n",
      "Número inteiro: 10.4\n",
      "Insira um número\n",
      "Número inteiro: 10\n",
      "10\n"
     ]
    }
   ],
   "source": [
    "#validação de dados em um loop até informar o número correto\n",
    "while True:\n",
    "    try:\n",
    "        numero = int(input(\"Número inteiro: \"))\n",
    "    except ValueError:\n",
    "        print(\"Insira um número inteiro.\")\n",
    "    else:\n",
    "        print(numero)\n",
    "        break"
   ]
  },
  {
   "cell_type": "code",
   "execution_count": 46,
   "id": "9940279c",
   "metadata": {},
   "outputs": [
    {
     "name": "stdout",
     "output_type": "stream",
     "text": [
      "Número inteiro: 10\n",
      "Número inserido é: 10\n"
     ]
    }
   ],
   "source": [
    "#validação de dados em um loop até informar o número dentro de um intervalo definido\n",
    "while True:\n",
    "    try:\n",
    "        numero = int(input(\"Número inteiro: \"))\n",
    "        if not (numero >= 10 and numero <= 20):\n",
    "            raise ValueError()\n",
    "    except ValueError:\n",
    "        print(\"Insira um número inteiro entre 10 e 20.\")\n",
    "    else:\n",
    "        print(\"Número inserido é:\", numero)\n",
    "        break"
   ]
  },
  {
   "cell_type": "code",
   "execution_count": 52,
   "id": "ebee1bf0",
   "metadata": {},
   "outputs": [
    {
     "name": "stdout",
     "output_type": "stream",
     "text": [
      "Nome: 12\n",
      "Favor inserir um nome válido.\n",
      "Nome: 35\n",
      "Favor inserir um nome válido.\n",
      "Nome: Claudio\n",
      "Nome inserido é: Claudio\n"
     ]
    }
   ],
   "source": [
    "#validação de dados em um loop até informar um texto (string)\n",
    "while True:\n",
    "    try:\n",
    "        nome = input(\"Nome: \")\n",
    "        if not (nome.isalpha()): #Método para verificar se o valor inserido contém somente letras\n",
    "            raise ValueError()\n",
    "    except ValueError:\n",
    "        print(\"Favor inserir um nome válido.\")\n",
    "    else:\n",
    "        print(\"Nome inserido é:\", nome)\n",
    "        break"
   ]
  },
  {
   "cell_type": "markdown",
   "id": "65343bff",
   "metadata": {},
   "source": [
    "# EXERCÍCIO 10"
   ]
  },
  {
   "cell_type": "markdown",
   "id": "03c8ed15",
   "metadata": {},
   "source": [
    "Ajuste o cenário explanado no Exercício 9, para que o mesmo, além de criar um arquivo novo do Excel, possa permitir a inclusão de novos registros no arquivo criado.\n",
    "\n",
    "Os dados dos/as entrevistados/as ficam a seu critério."
   ]
  },
  {
   "cell_type": "code",
   "execution_count": 53,
   "id": "6fdebfc9",
   "metadata": {},
   "outputs": [
    {
     "name": "stdout",
     "output_type": "stream",
     "text": [
      "Nome:Claudio\n",
      "Idade:42\n",
      "Estilo musical preferido:Hardcore\n",
      "Quantas horas por dia passa ouvindo música:5\n",
      "Deseja inserir uma novo registro? (S para sim. N para não.)N\n"
     ]
    }
   ],
   "source": [
    "#bibliotecas\n",
    "from pathlib import Path\n",
    "import pandas as pd\n",
    "\n",
    "#criando listas\n",
    "lista_nome = []\n",
    "lista_idade = []\n",
    "lista_estilo = []\n",
    "lista_horas = []\n",
    "\n",
    "#lista para tupla\n",
    "lista_tupla_estilo_musical = []\n",
    "\n",
    "#inserindo dados\n",
    "resposta = \"S\"\n",
    "\n",
    "while resposta.upper() == \"S\":\n",
    "    nome = input(\"Nome:\")\n",
    "    lista_nome.append(nome)\n",
    "    \n",
    "    #Validando tipo de dados \n",
    "    while True:\n",
    "        try:\n",
    "            idade = int(input(\"Idade:\"))\n",
    "            #Verifica também se a idade está entre 15 e 100 anos\n",
    "            if not (idade >= 15 and idade <= 100):\n",
    "                raise ValueError() #Aciona o Except\n",
    "        except ValueError: #Se o usuário inserir uma string ou um número que esteja fora do intervalo definido, dará erro.\n",
    "            print(\"Insira um número entre 15 e 100 anos.\")\n",
    "            continue #continua com o loop\n",
    "        else: #Se estiver tudo certo, para o loop, adiciona a idade na lista e segue com as perguntas.\n",
    "            break\n",
    "    lista_idade.append(idade)\n",
    "    \n",
    "    estilo_musical = input(\"Estilo musical preferido:\")\n",
    "    lista_estilo.append(estilo_musical)\n",
    "    \n",
    "    #Validando tipo de dados \n",
    "    while True:\n",
    "        try:\n",
    "            horas = int(input(\"Quantas horas por dia passa ouvindo música:\"))\n",
    "            if (horas > 24):\n",
    "                raise ValueError()\n",
    "        except ValueError:\n",
    "            print(\"Insira um número menor ou igual a 24.\")\n",
    "            continue\n",
    "        else:\n",
    "            break\n",
    "    lista_horas.append(horas)\n",
    "    \n",
    "    #Função de validação da resposta, para garantir que o usuário digite somente S ou N.\n",
    "    def valida_resposta(arg_resposta):\n",
    "        if (arg_resposta != \"S\" and arg_resposta != \"N\"):\n",
    "            print(\"\")\n",
    "            print(\"Você digitou\",arg_resposta,\"! Favor digitar S para sim ou N para não.\")\n",
    "            \n",
    "    execucao = True\n",
    "    while execucao:\n",
    "        resposta = input(\"Deseja inserir uma novo registro? (S para sim. N para não.)\").upper()\n",
    "        valida_resposta(resposta)\n",
    "        if (resposta == \"S\" or resposta == \"N\"):\n",
    "            execucao = False    \n",
    "    \n",
    "else:\n",
    "    #criando a tupla\n",
    "    for i in range(len(lista_nome)):\n",
    "        dados_estilo_musical = (lista_nome[i],lista_idade[i],lista_estilo[i],lista_horas[i])\n",
    "        lista_tupla_estilo_musical.append(dados_estilo_musical)\n",
    "        i = i + 1\n",
    "\n",
    "        \n",
    "#exportando para o Excel\n",
    "#variáveis de sistema de arquivos\n",
    "endereco_estilo_musical = Path(\"C:\\\\Users\\\\claud\\\\OneDrive\\\\Claudio Bonel-DADOTECA\\\\Senac\\\\Python - FATEC\\\\Dados\\\\\")\n",
    "excel_estilo_musical = endereco_estilo_musical / \"estilo_musical.xlsx\"\n",
    "\n",
    "#Criando e atualizando o arquivo Excel\n",
    "if (endereco_estilo_musical.exists()):\n",
    "    #Se o endereço existir segue com o processo de criação ou append de dados no excel\n",
    "    if not (excel_estilo_musical.exists()): #Criar o arquivo pela primeira vez\n",
    "        #Cria um dataframe com a tupla\n",
    "        estilo_musical = pd.DataFrame(lista_tupla_estilo_musical)\n",
    "        \n",
    "        #Renomeia as colunas\n",
    "        estilo_musical = estilo_musical.rename(columns = {0:\"Nome\",1:\"Idade\",2:\"Estilo musical\",3:\"Horas ouvindo\"})\n",
    "        \n",
    "        #Envia para o excel\n",
    "        estilo_musical.to_excel(excel_estilo_musical, sheet_name=\"estilo_musical\",index=False)\n",
    "        \n",
    "        print(\"Arquivo exportado com sucesso!\")\n",
    "    else: #Se o arquivo já existe, somente atualiza os dados      \n",
    "        #cria um dicionário com o nome das colunas\n",
    "        colunas = {0:\"Nome\",1:\"Idade\",2:\"Estilo musical\",3:\"Horas ouvindo\"}\n",
    "        #aciona a função de append no Excel, enviando o valor da lista\n",
    "        adiciona_dados_excel (excel_estilo_musical,\"estilo_musical\",lista_tupla_estilo_musical,colunas)\n",
    "else:\n",
    "    #Se o endereço não existir, envia uma mensagem de erro!\n",
    "    print('Endereço não existe! Favor verificar!')"
   ]
  },
  {
   "cell_type": "markdown",
   "id": "2d7fefda",
   "metadata": {},
   "source": [
    "Inserindo novos dados e alterando dados existentes, utilizando função definida pelo dev"
   ]
  },
  {
   "cell_type": "code",
   "execution_count": 80,
   "id": "acb3b35a",
   "metadata": {},
   "outputs": [
    {
     "name": "stdout",
     "output_type": "stream",
     "text": [
      "O nome Lira já existe no Excel. Deseja alterar a altura?\n",
      "Digite S para sim ou N para não.S\n",
      "O nome Manuel já existe no Excel. Deseja alterar a altura?\n",
      "Digite S para sim ou N para não.S\n",
      "Arquivo exportado com sucesso!\n"
     ]
    }
   ],
   "source": [
    "#Criando um arquivo\n",
    "from pathlib import Path\n",
    "import pandas as pd\n",
    "\n",
    "endereco = Path(\"C:\\\\Users\\\\claud\\\\OneDrive\\\\Claudio Bonel-DADOTECA\\\\Senac\\\\Python - FATEC\\\\Dados\\\\\")\n",
    "\n",
    "excel = endereco / \"alturas.xlsx\"\n",
    "\n",
    "if (endereco.exists()):\n",
    "    #Se o endereço existir segue com o processo de criação ou append de dados no excel\n",
    "    if not (excel.exists()): #Criar o arquivo pela primeira vez\n",
    "        #Cria um dataframe com a tupla\n",
    "        altura = pd.DataFrame(lista_tupla_alturas)\n",
    "        \n",
    "        #Renomeia as colunas\n",
    "        altura = altura.rename(columns = {0:\"Nome\",1:\"Altura\"})\n",
    "        \n",
    "        #Envia para o excel\n",
    "        altura.to_excel(excel, sheet_name=\"alturas\",index=False)\n",
    "    else: #Se o arquivo já existe, somente atualiza os dados     \n",
    "        #cria um dicionário com o nome das colunas\n",
    "        colunas = {0:\"Nome\",1:\"Altura\"}\n",
    "        #aciona a função de append no Excel, enviando o valor da lista\n",
    "        adiciona_altera_dados_excel (excel,\"alturas\",lista_tupla_alturas,colunas)\n",
    "else:\n",
    "    #Se o endereço não existir, envia uma mensagem de erro!\n",
    "    print('Endereço não existe! Favor verificar!')\n",
    "\n",
    "print(\"Arquivo exportado com sucesso!\")"
   ]
  },
  {
   "cell_type": "markdown",
   "id": "38857f60",
   "metadata": {},
   "source": [
    "Função definida pelo/a desenvolvedor/a para realizar a inclusão de novos dados e alteração de dados existentes em um arquivo já criado"
   ]
  },
  {
   "cell_type": "code",
   "execution_count": 57,
   "id": "defdedb7",
   "metadata": {},
   "outputs": [],
   "source": [
    "def adiciona_altera_dados_excel(arquivo_excel, nome_planilha, dados_novos, colunas):\n",
    "    #Verifica dados já carregados\n",
    "    df_origem = pd.DataFrame(pd.read_excel(arquivo_excel, sheet_name=nome_planilha), index=None)\n",
    "    \n",
    "    #transforma os dados existentes da arquivo em tuplas\n",
    "    tupla_origem = [tuple(x) for x in df_origem.values]\n",
    "\n",
    "    #cria uma lista dos nomes já existentes, para verificação de ajustes\n",
    "    lista_nomes_origem = []\n",
    "    j = 0\n",
    "    while j < len(tupla_origem):\n",
    "        lista_nomes_origem.append(tupla_origem[j][0])\n",
    "        j = j + 1\n",
    "    \n",
    "    #cria uma lista dos alturas já existentes, para verificação de ajustes\n",
    "    lista_alturas_origem = []\n",
    "    l = 0\n",
    "    while l < len(tupla_origem):\n",
    "        lista_alturas_origem.append(tupla_origem[l][1])\n",
    "        l = l + 1\n",
    "    \n",
    "    #verifica se os dados novos já existem no arquivo. Se existir não exporta, se Não existir exporta para o excel.\n",
    "    #Inicia o loop\n",
    "    i = 0 \n",
    "    dados_carga = []\n",
    "\n",
    "    while i < len(dados_novos): #Realiza o loop de acordo com o tamanho de dados novos\n",
    "        if (dados_novos[i] not in tupla_origem): #verifica se cada dado novo NÃO se encontra na tupla com os dados já exportados\n",
    "            if (dados_novos[i][0] in lista_nomes_origem): #verifica se os nomes novos são iguais aos que estão no excel\n",
    "                print(\"O nome\",dados_novos[i][0],\"já existe no Excel. Deseja alterar a altura?\") #Se for igual, pergunta sobre a alteração.\n",
    "                nome_igual = input(\"Digite S para sim ou N para não.\")\n",
    "                if (nome_igual.upper() == \"S\"): \n",
    "                    k = 0\n",
    "                    while k < len(lista_nomes_origem): #Localiza na lista nomes origem, o mesmo nome\n",
    "                        if dados_novos[i][0] == lista_nomes_origem[k]: #Quando encontrar o nome for uma verdade\n",
    "                            lista_alturas_origem[k] = dados_novos[i][1] #altera o valor antigo, com o valor novo\n",
    "                        \n",
    "                        k = k + 1                \n",
    "                else:\n",
    "                    i = i + 1\n",
    "            else:\n",
    "                dados_carga.append(dados_novos[i]) #Se não for nome repetido, já é sabido que é dado novo. Adiciona na tupla de dados para carga\n",
    "                i = i + 1\n",
    "            \n",
    "        i = i + 1\n",
    "\n",
    "        \n",
    "    #cria o dataframe com os dados para carga\n",
    "    df_dados_carga = pd.DataFrame(dados_carga)\n",
    "\n",
    "    #cria o dataframe com os ajustes para alterações de dados existentes\n",
    "    t = 0\n",
    "    lista_tupla_origem_ajustada = []\n",
    "    while t < len(lista_nomes_origem): #Percorre as listas com os ajustes que foram solicitados, de acordo com a resposta Sim.\n",
    "        tupla_origem_ajustada = (lista_nomes_origem[t],lista_alturas_origem[t]) #combina os dados de nome e altura nova\n",
    "        lista_tupla_origem_ajustada.append(tupla_origem_ajustada) #cria a tupla com dados ajustados\n",
    "        t = t + 1\n",
    "    \n",
    "    #Cria o dataframe com os dados que serão ajustados\n",
    "    df_dados_ajustados = pd.DataFrame(lista_tupla_origem_ajustada)    \n",
    "\n",
    "    #Renomeia colunas dos dataframes (novos dados e dados ajustados, para terem o mesmo nome. É obrigatório para junção)\n",
    "    df_dados_carga = df_dados_carga.rename(columns = colunas)\n",
    "    df_dados_ajustados = df_dados_ajustados.rename(columns = colunas)\n",
    "\n",
    "    #Cria o dataframa com os novos dados, os dados já existentes e os dados ajustados\n",
    "    df_dados_carga = pd.concat([df_dados_ajustados,df_dados_carga])\n",
    "\n",
    "    #Exporta para o Excel\n",
    "    df_dados_carga.to_excel(arquivo_excel, sheet_name=nome_planilha,index=False)"
   ]
  },
  {
   "cell_type": "markdown",
   "id": "329190c8",
   "metadata": {},
   "source": [
    "# EXERCÍCIO 11"
   ]
  },
  {
   "cell_type": "markdown",
   "id": "628e4401",
   "metadata": {},
   "source": [
    "Crie um aplicativo que possibilite a entrada de um nome e uma altura (1 por vez), de modo a verificar o seguinte:\n",
    "- Se o nome já existe no arquivo \"alturas.xlsx\", deve informar na tela e perguntar se deseja realizar a altaração da altura.\n",
    "- Se o nome não existir no arquivo \"alturas.xlsx\", deve inserir o nome e a altura."
   ]
  },
  {
   "cell_type": "code",
   "execution_count": 61,
   "id": "14e1824d",
   "metadata": {},
   "outputs": [
    {
     "name": "stdout",
     "output_type": "stream",
     "text": [
      "Nome para ajustar altura:123\n",
      "Favor inserir um nome válido\n",
      "Nome para ajustar altura:Claudio\n",
      "Altura:1.89\n",
      "O nome Claudio já existe no Excel. Deseja alterar a altura?\n",
      "Digite S para sim ou N para não.S\n",
      "Processo concluído com sucesso. Deseja ajustar outra altura? (S para sim. N para não.)N\n",
      "Aplicativo finalizado.\n"
     ]
    }
   ],
   "source": [
    "#Importando bibliotecas\n",
    "from pathlib import Path\n",
    "import pandas as pd\n",
    "\n",
    "#definindo endereço no sistema de arquivos\n",
    "endereco = Path(\"C:\\\\Users\\\\claud\\\\OneDrive\\\\Claudio Bonel-DADOTECA\\\\Senac\\\\Python - FATEC\\\\Dados\\\\\")\n",
    "\n",
    "#nome do arquivo\n",
    "excel = endereco / \"alturas.xlsx\"\n",
    "\n",
    "#iniciando a variável\n",
    "resposta = \"S\"\n",
    "\n",
    "#Lógica da verificação dos nomes e alturas\n",
    "while resposta.upper() == \"S\":\n",
    "    #Input dos dados\n",
    "    while True:\n",
    "        try:\n",
    "            nome = input(\"Nome para ajustar altura:\")\n",
    "            if not (nome.isalpha()):\n",
    "                raise ValueError()\n",
    "        except ValueError:\n",
    "            print(\"Favor inserir um nome válido\")\n",
    "            continue\n",
    "        else:\n",
    "            break\n",
    "    \n",
    "    #Input da altura com validação para garantir número decimal      \n",
    "    while True:\n",
    "        try:\n",
    "            altura = float(input(\"Altura:\"))\n",
    "        except ValueError:\n",
    "            print(\"Insira um valor numérico. Ex.: 1.76\")\n",
    "            continue\n",
    "        else:\n",
    "            break\n",
    "            \n",
    "    #Criação da lista de tupla. Como o requisito é 1 por vez, não há a necessidade de um loop.\n",
    "    lista_tupla_altura_nova = [] #iniciar a lista\n",
    "    dados_tupla = (nome,altura) #Cria a tupla\n",
    "    lista_tupla_altura_nova.append(dados_tupla) #Define a lista com a tupla\n",
    "\n",
    "    #valida o endereço\n",
    "    if (endereco.exists()):\n",
    "        #Dicionário de colunas\n",
    "        colunas = {0:\"Nome\",1:\"Altura\"}\n",
    "        #Aciona a função que adiciona dados ao Excel\n",
    "        adiciona_altera_dados_excel(excel,\"alturas\",lista_tupla_altura_nova, colunas) #argumentos da função\n",
    "    else:\n",
    "        print(\"Endereço não existe!\")\n",
    "    \n",
    "    #Função de validação da resposta, para garantir que o usuário digite somente S ou N.\n",
    "    def valida_resposta(arg_resposta):\n",
    "        if (arg_resposta != \"S\" and arg_resposta != \"N\"):\n",
    "            print(\"\")\n",
    "            print(\"Você digitou\",arg_resposta,\"! Favor digitar S para sim ou N para não.\")\n",
    "            \n",
    "    execucao = True\n",
    "    while execucao:\n",
    "        resposta = input(\"Processo concluído com sucesso. Deseja ajustar outra altura? (S para sim. N para não.)\").upper()\n",
    "        valida_resposta(resposta)\n",
    "        if (resposta == \"S\" or resposta == \"N\"):\n",
    "            execucao = False\n",
    "\n",
    "\n",
    "else:\n",
    "    print(\"Aplicativo finalizado.\")"
   ]
  },
  {
   "cell_type": "code",
   "execution_count": null,
   "id": "a453de89",
   "metadata": {},
   "outputs": [],
   "source": []
  }
 ],
 "metadata": {
  "kernelspec": {
   "display_name": "Python 3 (ipykernel)",
   "language": "python",
   "name": "python3"
  },
  "language_info": {
   "codemirror_mode": {
    "name": "ipython",
    "version": 3
   },
   "file_extension": ".py",
   "mimetype": "text/x-python",
   "name": "python",
   "nbconvert_exporter": "python",
   "pygments_lexer": "ipython3",
   "version": "3.9.12"
  }
 },
 "nbformat": 4,
 "nbformat_minor": 5
}
